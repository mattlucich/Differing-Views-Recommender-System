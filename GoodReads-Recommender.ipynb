{
 "cells": [
  {
   "cell_type": "code",
   "execution_count": 1,
   "metadata": {},
   "outputs": [],
   "source": [
    "from IPython.core.display import display, HTML\n",
    "from collections import Counter\n",
    "from scipy import spatial\n",
    "from numpy import dot\n",
    "from numpy.linalg import norm\n",
    "\n",
    "import pandas as pd\n",
    "import numpy as np\n",
    "import json\n",
    "import gzip\n",
    "import re\n",
    "import warnings"
   ]
  },
  {
   "cell_type": "code",
   "execution_count": 2,
   "metadata": {},
   "outputs": [
    {
     "data": {
      "text/html": [
       "<style>.container { width:100% !important; }</style>"
      ],
      "text/plain": [
       "<IPython.core.display.HTML object>"
      ]
     },
     "metadata": {},
     "output_type": "display_data"
    }
   ],
   "source": [
    "display(HTML(\"<style>.container { width:100% !important; }</style>\"))\n",
    "warnings.simplefilter(action='ignore', category=FutureWarning)"
   ]
  },
  {
   "cell_type": "code",
   "execution_count": 3,
   "metadata": {},
   "outputs": [],
   "source": [
    "# Load book data\n",
    "df_books_raw = pd.read_csv(\"https://book-recommender-goodreads.s3.us-east-2.amazonaws.com/booksdatagenresfull/books_full.csv\", \n",
    "                           error_bad_lines=False, warn_bad_lines=False)"
   ]
  },
  {
   "cell_type": "code",
   "execution_count": 4,
   "metadata": {},
   "outputs": [],
   "source": [
    "# Filter out non-English languages (need to leave nans)\n",
    "language_regex = \"afr|aka|ang|ara|arw|aus|aze|bel|ben|bos|bul|cat|cze|dan|dum|egy|elx|enm|epo|es-MX|est|eus|fil|fin|fre|frs|ger|glg|grc|gre|guj|heb|her|hin|hun|hye|ind|isl|ita|jav|jpn|kan|kat|kor|kur|lat|lav|lit|mal|mar|mkd|mon|msa|mul|nan|nep|nl|nld|nno|nob|nor|oci|ota|peo|per|pes|pol|por|pra|pt-BR|raj|rum|run|rus|scr|sin|slo|slv|spa|sqi|srp|swe|tam|tel|tha|tlh|tur|ukr|urd|vie|zho\"\n",
    "df_books_eng = df_books_raw[~df_books_raw[\"language_code\"].str.contains(language_regex, na=False)]\n"
   ]
  },
  {
   "cell_type": "code",
   "execution_count": 5,
   "metadata": {},
   "outputs": [
    {
     "data": {
      "text/plain": [
       "(426534, 7)"
      ]
     },
     "execution_count": 5,
     "metadata": {},
     "output_type": "execute_result"
    }
   ],
   "source": [
    "# Check the shape of the dataframe\n",
    "df_books_eng.shape"
   ]
  },
  {
   "cell_type": "code",
   "execution_count": 6,
   "metadata": {},
   "outputs": [],
   "source": [
    "# Remove fiction, self-help, and finance books\n",
    "df_books_eng = df_books_eng[~df_books_eng[\"popular_shelves\"].str.contains(\"'fiction|thiller|science fiction|novels|comics|Self Help|Finance\")]\n"
   ]
  },
  {
   "cell_type": "code",
   "execution_count": 7,
   "metadata": {},
   "outputs": [],
   "source": [
    "def trunc_popular_shelves(cell):\n",
    "  \"\"\"Removes any genres with counts of 1\"\"\"\n",
    "  trunc_cell = cell[0:cell.find(\"count='1'\")]\n",
    "  return trunc_cell \n"
   ]
  },
  {
   "cell_type": "code",
   "execution_count": 8,
   "metadata": {},
   "outputs": [],
   "source": [
    "# Removes any genres with counts of 1\n",
    "df_books_eng['popular_shelves_trun'] = df_books_eng['popular_shelves'].apply(trunc_popular_shelves)\n"
   ]
  },
  {
   "cell_type": "code",
   "execution_count": 9,
   "metadata": {},
   "outputs": [],
   "source": [
    "def parse_genre_str(cell_str):\n",
    "    \"\"\"Saves only genres of interest and only keep the top two\"\"\"\n",
    "    genre_list = cell_str.split(\"),\")\n",
    "    regex_genres = \"economics|politics|sociology|society|political-science|government|history|philosophy|theory\"\n",
    "    regex_compile = re.compile(regex_genres)\n",
    "    regex_count = \"(?<=count=').*?(?=',)\"\n",
    "    tuple_list = []\n",
    "    for genre in genre_list:\n",
    "        if regex_compile.search(genre):\n",
    "            extracted_genre = re.findall(regex_genres, genre, flags=re.IGNORECASE)\n",
    "            count_genre = re.findall(regex_count, genre, flags=re.IGNORECASE)\n",
    "            tuple_list.append((extracted_genre[0], int(count_genre[0])))\n",
    "    return str(tuple_list[0:2]) if len(tuple_list) > 0 else tuple_list"
   ]
  },
  {
   "cell_type": "code",
   "execution_count": 10,
   "metadata": {
    "scrolled": true
   },
   "outputs": [],
   "source": [
    "# Save only genres of interest and only keep the top two\n",
    "df_books_eng['popular_shelves_clean'] = df_books_eng['popular_shelves_trun'].apply(parse_genre_str)\n"
   ]
  },
  {
   "cell_type": "code",
   "execution_count": 11,
   "metadata": {},
   "outputs": [],
   "source": [
    "# Create dummy variables for genres of interest\n",
    "df_books_eng[\"economics\"] = df_books_eng.apply(lambda x: 1 if \"economics\" in x[\"popular_shelves_clean\"] else 0, axis=1)\n",
    "df_books_eng[\"politics\"] = df_books_eng.apply(lambda x: 1 if \"politics\" in x[\"popular_shelves_clean\"] else 0, axis=1)\n",
    "df_books_eng[\"sociology\"] = df_books_eng.apply(lambda x: 1 if \"sociology\" in x[\"popular_shelves_clean\"] else 0, axis=1)\n",
    "df_books_eng[\"society\"] = df_books_eng.apply(lambda x: 1 if \"society\" in x[\"popular_shelves_clean\"] else 0, axis=1)\n",
    "df_books_eng[\"political-science\"] = df_books_eng.apply(lambda x: 1 if \"political-science\" in x[\"popular_shelves_clean\"] else 0, axis=1)\n",
    "df_books_eng[\"government\"] = df_books_eng.apply(lambda x: 1 if \"government\" in x[\"popular_shelves_clean\"] else 0, axis=1)\n",
    "df_books_eng[\"history\"] = df_books_eng.apply(lambda x: 1 if \"history\" in x[\"popular_shelves_clean\"] else 0, axis=1)\n",
    "df_books_eng[\"philosophy\"] = df_books_eng.apply(lambda x: 1 if \"philosophy\" in x[\"popular_shelves_clean\"] else 0, axis=1)\n",
    "df_books_eng[\"theory\"] = df_books_eng.apply(lambda x: 1 if \"theory\" in x[\"popular_shelves_clean\"] else 0, axis=1)\n"
   ]
  },
  {
   "cell_type": "code",
   "execution_count": 12,
   "metadata": {},
   "outputs": [],
   "source": [
    "# Trim the dataframe for columns of interest\n",
    "df_books = df_books_eng[['title', 'book_id', 'publication_year', 'ratings_count', 'language_code', 'average_rating', 'economics', 'politics', 'sociology', 'society', 'political-science', 'government', 'history', 'philosophy', 'theory']]\n",
    "\n"
   ]
  },
  {
   "cell_type": "code",
   "execution_count": 13,
   "metadata": {},
   "outputs": [],
   "source": [
    "# Filter for only books that match at least one of the below genres\n",
    "df_books = df_books.loc[(df_books[\"economics\"]==1) | \\\n",
    "                 (df_books[\"politics\"]==1) | \\\n",
    "                 (df_books[\"political-science\"]==1) | \\\n",
    "                 (df_books[\"government\"]==1) | \\\n",
    "                 (df_books[\"history\"]==1) | \\\n",
    "                 (df_books[\"philosophy\"]==1) | \\\n",
    "                 (df_books[\"theory\"]==1)]\n"
   ]
  },
  {
   "cell_type": "code",
   "execution_count": 14,
   "metadata": {},
   "outputs": [],
   "source": [
    "# Filter for books with at least 100 ratings\n",
    "df_books = df_books.loc[df_books[\"ratings_count\"]>=100]"
   ]
  },
  {
   "cell_type": "code",
   "execution_count": 15,
   "metadata": {},
   "outputs": [
    {
     "name": "stdout",
     "output_type": "stream",
     "text": [
      "economics: 3081\n",
      "politics: (7476, 15)\n",
      "political-science: 141\n",
      "government: 26\n",
      "history: 23305\n",
      "philosophy: 9792\n",
      "theory: 1401\n"
     ]
    }
   ],
   "source": [
    "# See how many books are in each genre (there is overlap)\n",
    "print(\"economics:\", df_books.loc[(df_books[\"economics\"]==1)].shape[0])\n",
    "print(\"politics:\", df_books.loc[(df_books[\"politics\"]==1)].shape)\n",
    "print(\"political-science:\", df_books.loc[(df_books[\"political-science\"]==1)].shape[0])\n",
    "print(\"government:\", df_books.loc[(df_books[\"government\"]==1)].shape[0])\n",
    "print(\"history:\", df_books.loc[(df_books[\"history\"]==1)].shape[0])\n",
    "print(\"philosophy:\", df_books.loc[(df_books[\"philosophy\"]==1)].shape[0])\n",
    "print(\"theory:\", df_books.loc[(df_books[\"theory\"]==1)].shape[0])"
   ]
  },
  {
   "cell_type": "code",
   "execution_count": 16,
   "metadata": {},
   "outputs": [
    {
     "data": {
      "text/html": [
       "<div>\n",
       "<style scoped>\n",
       "    .dataframe tbody tr th:only-of-type {\n",
       "        vertical-align: middle;\n",
       "    }\n",
       "\n",
       "    .dataframe tbody tr th {\n",
       "        vertical-align: top;\n",
       "    }\n",
       "\n",
       "    .dataframe thead th {\n",
       "        text-align: right;\n",
       "    }\n",
       "</style>\n",
       "<table border=\"1\" class=\"dataframe\">\n",
       "  <thead>\n",
       "    <tr style=\"text-align: right;\">\n",
       "      <th></th>\n",
       "      <th>title</th>\n",
       "      <th>book_id</th>\n",
       "      <th>publication_year</th>\n",
       "      <th>ratings_count</th>\n",
       "      <th>language_code</th>\n",
       "      <th>average_rating</th>\n",
       "      <th>economics</th>\n",
       "      <th>politics</th>\n",
       "      <th>sociology</th>\n",
       "      <th>society</th>\n",
       "      <th>political-science</th>\n",
       "      <th>government</th>\n",
       "      <th>history</th>\n",
       "      <th>philosophy</th>\n",
       "      <th>theory</th>\n",
       "    </tr>\n",
       "  </thead>\n",
       "  <tbody>\n",
       "    <tr>\n",
       "      <td>523632</td>\n",
       "      <td>Eiger Dreams</td>\n",
       "      <td>10849</td>\n",
       "      <td>2011.0</td>\n",
       "      <td>103</td>\n",
       "      <td>NaN</td>\n",
       "      <td>3.97</td>\n",
       "      <td>0</td>\n",
       "      <td>0</td>\n",
       "      <td>0</td>\n",
       "      <td>0</td>\n",
       "      <td>0</td>\n",
       "      <td>0</td>\n",
       "      <td>1</td>\n",
       "      <td>0</td>\n",
       "      <td>0</td>\n",
       "    </tr>\n",
       "    <tr>\n",
       "      <td>523641</td>\n",
       "      <td>Great Masters: Mozart: His Life and Music (Gre...</td>\n",
       "      <td>3523380</td>\n",
       "      <td>NaN</td>\n",
       "      <td>114</td>\n",
       "      <td>NaN</td>\n",
       "      <td>4.34</td>\n",
       "      <td>0</td>\n",
       "      <td>0</td>\n",
       "      <td>0</td>\n",
       "      <td>0</td>\n",
       "      <td>0</td>\n",
       "      <td>0</td>\n",
       "      <td>1</td>\n",
       "      <td>0</td>\n",
       "      <td>0</td>\n",
       "    </tr>\n",
       "    <tr>\n",
       "      <td>523663</td>\n",
       "      <td>The Earth Is Weeping: The Epic Story of the In...</td>\n",
       "      <td>31678077</td>\n",
       "      <td>NaN</td>\n",
       "      <td>147</td>\n",
       "      <td>NaN</td>\n",
       "      <td>4.21</td>\n",
       "      <td>0</td>\n",
       "      <td>0</td>\n",
       "      <td>0</td>\n",
       "      <td>0</td>\n",
       "      <td>0</td>\n",
       "      <td>0</td>\n",
       "      <td>1</td>\n",
       "      <td>0</td>\n",
       "      <td>0</td>\n",
       "    </tr>\n",
       "    <tr>\n",
       "      <td>523677</td>\n",
       "      <td>The Muslim Jesus: Sayings and Stories in Islam...</td>\n",
       "      <td>282244</td>\n",
       "      <td>2003.0</td>\n",
       "      <td>137</td>\n",
       "      <td>NaN</td>\n",
       "      <td>3.82</td>\n",
       "      <td>0</td>\n",
       "      <td>0</td>\n",
       "      <td>0</td>\n",
       "      <td>0</td>\n",
       "      <td>0</td>\n",
       "      <td>0</td>\n",
       "      <td>1</td>\n",
       "      <td>1</td>\n",
       "      <td>0</td>\n",
       "    </tr>\n",
       "    <tr>\n",
       "      <td>523678</td>\n",
       "      <td>The Lonely Soldier: The Private War of Women S...</td>\n",
       "      <td>6093345</td>\n",
       "      <td>2009.0</td>\n",
       "      <td>207</td>\n",
       "      <td>NaN</td>\n",
       "      <td>4.09</td>\n",
       "      <td>0</td>\n",
       "      <td>1</td>\n",
       "      <td>0</td>\n",
       "      <td>0</td>\n",
       "      <td>0</td>\n",
       "      <td>0</td>\n",
       "      <td>1</td>\n",
       "      <td>0</td>\n",
       "      <td>0</td>\n",
       "    </tr>\n",
       "  </tbody>\n",
       "</table>\n",
       "</div>"
      ],
      "text/plain": [
       "                                                    title   book_id  \\\n",
       "523632                                       Eiger Dreams     10849   \n",
       "523641  Great Masters: Mozart: His Life and Music (Gre...   3523380   \n",
       "523663  The Earth Is Weeping: The Epic Story of the In...  31678077   \n",
       "523677  The Muslim Jesus: Sayings and Stories in Islam...    282244   \n",
       "523678  The Lonely Soldier: The Private War of Women S...   6093345   \n",
       "\n",
       "        publication_year  ratings_count language_code  average_rating  \\\n",
       "523632            2011.0            103           NaN            3.97   \n",
       "523641               NaN            114           NaN            4.34   \n",
       "523663               NaN            147           NaN            4.21   \n",
       "523677            2003.0            137           NaN            3.82   \n",
       "523678            2009.0            207           NaN            4.09   \n",
       "\n",
       "        economics  politics  sociology  society  political-science  \\\n",
       "523632          0         0          0        0                  0   \n",
       "523641          0         0          0        0                  0   \n",
       "523663          0         0          0        0                  0   \n",
       "523677          0         0          0        0                  0   \n",
       "523678          0         1          0        0                  0   \n",
       "\n",
       "        government  history  philosophy  theory  \n",
       "523632           0        1           0       0  \n",
       "523641           0        1           0       0  \n",
       "523663           0        1           0       0  \n",
       "523677           0        1           1       0  \n",
       "523678           0        1           0       0  "
      ]
     },
     "execution_count": 16,
     "metadata": {},
     "output_type": "execute_result"
    }
   ],
   "source": [
    "# Preview the data\n",
    "df_books.tail(5)"
   ]
  },
  {
   "cell_type": "code",
   "execution_count": 17,
   "metadata": {},
   "outputs": [],
   "source": [
    "# Create a set of all the book ids (after filtering)\n",
    "genre_book_ids = set(df_books[\"book_id\"])\n"
   ]
  },
  {
   "cell_type": "markdown",
   "metadata": {},
   "source": [
    "## Interactions"
   ]
  },
  {
   "cell_type": "code",
   "execution_count": 18,
   "metadata": {},
   "outputs": [],
   "source": [
    "df_inter_raw = pd.read_csv(\"https://book-recommender-goodreads.s3.us-east-2.amazonaws.com/bookinteractionselectread10m/book-interactions-10m.csv\", \n",
    "                           error_bad_lines=False)\n"
   ]
  },
  {
   "cell_type": "code",
   "execution_count": 19,
   "metadata": {},
   "outputs": [],
   "source": [
    "df_inter_filtered = df_inter_raw[df_inter_raw[\"book_id\"].isin(genre_book_ids)]"
   ]
  },
  {
   "cell_type": "code",
   "execution_count": 20,
   "metadata": {},
   "outputs": [
    {
     "data": {
      "text/plain": [
       "(907463, 5)"
      ]
     },
     "execution_count": 20,
     "metadata": {},
     "output_type": "execute_result"
    }
   ],
   "source": [
    "df_inter_filtered.shape"
   ]
  },
  {
   "cell_type": "code",
   "execution_count": 21,
   "metadata": {},
   "outputs": [],
   "source": [
    "# Count number of times each book was read\n",
    "book_counts = Counter(df_inter_filtered[\"book_id\"])"
   ]
  },
  {
   "cell_type": "code",
   "execution_count": 22,
   "metadata": {},
   "outputs": [
    {
     "name": "stdout",
     "output_type": "stream",
     "text": [
      "[(1000, 43323), (1116, 25855), (586, 23755), (998, 14386), (5239, 10513), (531, 7736), (5238, 7128), (621, 6942), (1590, 5619), (13318, 5371)]\n"
     ]
    }
   ],
   "source": [
    "# Create sorted list of book read counts\n",
    "book_counts_sorted = sorted(book_counts.items(), key=lambda item: (-item[1], item[0]))\n",
    "\n",
    "# Preview top 5 most read\n",
    "print(book_counts_sorted[0:10])"
   ]
  },
  {
   "cell_type": "code",
   "execution_count": 23,
   "metadata": {},
   "outputs": [],
   "source": [
    "# Keep only books with more than one reader\n",
    "top_books = [book_tuple[0] for book_tuple in book_counts_sorted if (book_tuple[1] > 1)]"
   ]
  },
  {
   "cell_type": "code",
   "execution_count": 24,
   "metadata": {},
   "outputs": [
    {
     "data": {
      "text/plain": [
       "13783"
      ]
     },
     "execution_count": 24,
     "metadata": {},
     "output_type": "execute_result"
    }
   ],
   "source": [
    "len(top_books)"
   ]
  },
  {
   "cell_type": "code",
   "execution_count": 25,
   "metadata": {},
   "outputs": [],
   "source": [
    "df_inter = df_inter_filtered[['user_id', 'book_id', 'rating']]"
   ]
  },
  {
   "cell_type": "code",
   "execution_count": 26,
   "metadata": {},
   "outputs": [
    {
     "data": {
      "text/html": [
       "<div>\n",
       "<style scoped>\n",
       "    .dataframe tbody tr th:only-of-type {\n",
       "        vertical-align: middle;\n",
       "    }\n",
       "\n",
       "    .dataframe tbody tr th {\n",
       "        vertical-align: top;\n",
       "    }\n",
       "\n",
       "    .dataframe thead th {\n",
       "        text-align: right;\n",
       "    }\n",
       "</style>\n",
       "<table border=\"1\" class=\"dataframe\">\n",
       "  <thead>\n",
       "    <tr style=\"text-align: right;\">\n",
       "      <th></th>\n",
       "      <th>user_id</th>\n",
       "      <th>book_id</th>\n",
       "      <th>rating</th>\n",
       "    </tr>\n",
       "  </thead>\n",
       "  <tbody>\n",
       "    <tr>\n",
       "      <td>9</td>\n",
       "      <td>0</td>\n",
       "      <td>914</td>\n",
       "      <td>4</td>\n",
       "    </tr>\n",
       "    <tr>\n",
       "      <td>12</td>\n",
       "      <td>0</td>\n",
       "      <td>908</td>\n",
       "      <td>4</td>\n",
       "    </tr>\n",
       "    <tr>\n",
       "      <td>13</td>\n",
       "      <td>0</td>\n",
       "      <td>905</td>\n",
       "      <td>4</td>\n",
       "    </tr>\n",
       "    <tr>\n",
       "      <td>26</td>\n",
       "      <td>0</td>\n",
       "      <td>842</td>\n",
       "      <td>3</td>\n",
       "    </tr>\n",
       "    <tr>\n",
       "      <td>27</td>\n",
       "      <td>0</td>\n",
       "      <td>841</td>\n",
       "      <td>4</td>\n",
       "    </tr>\n",
       "  </tbody>\n",
       "</table>\n",
       "</div>"
      ],
      "text/plain": [
       "    user_id  book_id  rating\n",
       "9         0      914       4\n",
       "12        0      908       4\n",
       "13        0      905       4\n",
       "26        0      842       3\n",
       "27        0      841       4"
      ]
     },
     "execution_count": 26,
     "metadata": {},
     "output_type": "execute_result"
    }
   ],
   "source": [
    "df_inter.head()"
   ]
  },
  {
   "cell_type": "code",
   "execution_count": null,
   "metadata": {},
   "outputs": [],
   "source": []
  },
  {
   "cell_type": "code",
   "execution_count": 28,
   "metadata": {},
   "outputs": [],
   "source": [
    "# Count number of books each user has read \n",
    "user_book_count = Counter(df_inter[\"user_id\"])\n",
    "low_count_users = [x for x, count in user_book_count.items() if count <= 1]"
   ]
  },
  {
   "cell_type": "code",
   "execution_count": 29,
   "metadata": {},
   "outputs": [],
   "source": [
    "# Keep only users with more than one read\n",
    "df_inter = df_inter[~df_inter[\"user_id\"].isin(low_count_users)]"
   ]
  },
  {
   "cell_type": "code",
   "execution_count": 30,
   "metadata": {},
   "outputs": [
    {
     "data": {
      "text/plain": [
       "(897717, 3)"
      ]
     },
     "execution_count": 30,
     "metadata": {},
     "output_type": "execute_result"
    }
   ],
   "source": [
    "df_inter.shape"
   ]
  },
  {
   "cell_type": "markdown",
   "metadata": {},
   "source": [
    "# Create Book-User Matrices"
   ]
  },
  {
   "cell_type": "code",
   "execution_count": 33,
   "metadata": {},
   "outputs": [],
   "source": [
    "def create_book_user_matrix(df):\n",
    "    '''\n",
    "    Return a matrix with book ids as rows and user ids on the columns\n",
    "    '''\n",
    "    user_item_nans = df.pivot(index='book_id', columns='user_id', values='rating')\n",
    "    user_item_counts = user_item_nans.fillna(0)\n",
    "    user_item_bool = user_item_counts > 0\n",
    "    user_item = user_item_bool.astype(int)\n",
    "\n",
    "    return user_item # return the user_item matrix "
   ]
  },
  {
   "cell_type": "code",
   "execution_count": 34,
   "metadata": {},
   "outputs": [],
   "source": [
    "book_user = create_book_user_matrix(df_inter)"
   ]
  },
  {
   "cell_type": "code",
   "execution_count": 36,
   "metadata": {},
   "outputs": [
    {
     "data": {
      "text/html": [
       "<div>\n",
       "<style scoped>\n",
       "    .dataframe tbody tr th:only-of-type {\n",
       "        vertical-align: middle;\n",
       "    }\n",
       "\n",
       "    .dataframe tbody tr th {\n",
       "        vertical-align: top;\n",
       "    }\n",
       "\n",
       "    .dataframe thead th {\n",
       "        text-align: right;\n",
       "    }\n",
       "</style>\n",
       "<table border=\"1\" class=\"dataframe\">\n",
       "  <thead>\n",
       "    <tr style=\"text-align: right;\">\n",
       "      <th>user_id</th>\n",
       "      <th>0</th>\n",
       "      <th>1</th>\n",
       "      <th>2</th>\n",
       "      <th>3</th>\n",
       "      <th>4</th>\n",
       "      <th>5</th>\n",
       "      <th>6</th>\n",
       "      <th>8</th>\n",
       "      <th>9</th>\n",
       "      <th>11</th>\n",
       "      <th>...</th>\n",
       "      <th>172067</th>\n",
       "      <th>172068</th>\n",
       "      <th>172069</th>\n",
       "      <th>172070</th>\n",
       "      <th>172071</th>\n",
       "      <th>172072</th>\n",
       "      <th>172073</th>\n",
       "      <th>172075</th>\n",
       "      <th>172076</th>\n",
       "      <th>172078</th>\n",
       "    </tr>\n",
       "    <tr>\n",
       "      <th>book_id</th>\n",
       "      <th></th>\n",
       "      <th></th>\n",
       "      <th></th>\n",
       "      <th></th>\n",
       "      <th></th>\n",
       "      <th></th>\n",
       "      <th></th>\n",
       "      <th></th>\n",
       "      <th></th>\n",
       "      <th></th>\n",
       "      <th></th>\n",
       "      <th></th>\n",
       "      <th></th>\n",
       "      <th></th>\n",
       "      <th></th>\n",
       "      <th></th>\n",
       "      <th></th>\n",
       "      <th></th>\n",
       "      <th></th>\n",
       "      <th></th>\n",
       "      <th></th>\n",
       "    </tr>\n",
       "  </thead>\n",
       "  <tbody>\n",
       "    <tr>\n",
       "      <td>22</td>\n",
       "      <td>1</td>\n",
       "      <td>0</td>\n",
       "      <td>0</td>\n",
       "      <td>0</td>\n",
       "      <td>0</td>\n",
       "      <td>0</td>\n",
       "      <td>0</td>\n",
       "      <td>0</td>\n",
       "      <td>0</td>\n",
       "      <td>0</td>\n",
       "      <td>...</td>\n",
       "      <td>0</td>\n",
       "      <td>0</td>\n",
       "      <td>0</td>\n",
       "      <td>0</td>\n",
       "      <td>0</td>\n",
       "      <td>0</td>\n",
       "      <td>0</td>\n",
       "      <td>0</td>\n",
       "      <td>0</td>\n",
       "      <td>0</td>\n",
       "    </tr>\n",
       "    <tr>\n",
       "      <td>29</td>\n",
       "      <td>0</td>\n",
       "      <td>0</td>\n",
       "      <td>0</td>\n",
       "      <td>0</td>\n",
       "      <td>0</td>\n",
       "      <td>0</td>\n",
       "      <td>0</td>\n",
       "      <td>0</td>\n",
       "      <td>0</td>\n",
       "      <td>0</td>\n",
       "      <td>...</td>\n",
       "      <td>0</td>\n",
       "      <td>0</td>\n",
       "      <td>0</td>\n",
       "      <td>0</td>\n",
       "      <td>0</td>\n",
       "      <td>0</td>\n",
       "      <td>0</td>\n",
       "      <td>0</td>\n",
       "      <td>0</td>\n",
       "      <td>0</td>\n",
       "    </tr>\n",
       "    <tr>\n",
       "      <td>71</td>\n",
       "      <td>0</td>\n",
       "      <td>0</td>\n",
       "      <td>0</td>\n",
       "      <td>0</td>\n",
       "      <td>0</td>\n",
       "      <td>0</td>\n",
       "      <td>0</td>\n",
       "      <td>0</td>\n",
       "      <td>0</td>\n",
       "      <td>0</td>\n",
       "      <td>...</td>\n",
       "      <td>0</td>\n",
       "      <td>0</td>\n",
       "      <td>0</td>\n",
       "      <td>0</td>\n",
       "      <td>0</td>\n",
       "      <td>0</td>\n",
       "      <td>0</td>\n",
       "      <td>0</td>\n",
       "      <td>0</td>\n",
       "      <td>0</td>\n",
       "    </tr>\n",
       "    <tr>\n",
       "      <td>76</td>\n",
       "      <td>0</td>\n",
       "      <td>0</td>\n",
       "      <td>0</td>\n",
       "      <td>0</td>\n",
       "      <td>0</td>\n",
       "      <td>0</td>\n",
       "      <td>0</td>\n",
       "      <td>0</td>\n",
       "      <td>0</td>\n",
       "      <td>0</td>\n",
       "      <td>...</td>\n",
       "      <td>0</td>\n",
       "      <td>0</td>\n",
       "      <td>0</td>\n",
       "      <td>0</td>\n",
       "      <td>0</td>\n",
       "      <td>0</td>\n",
       "      <td>0</td>\n",
       "      <td>0</td>\n",
       "      <td>0</td>\n",
       "      <td>0</td>\n",
       "    </tr>\n",
       "    <tr>\n",
       "      <td>80</td>\n",
       "      <td>0</td>\n",
       "      <td>0</td>\n",
       "      <td>0</td>\n",
       "      <td>0</td>\n",
       "      <td>0</td>\n",
       "      <td>0</td>\n",
       "      <td>0</td>\n",
       "      <td>0</td>\n",
       "      <td>0</td>\n",
       "      <td>1</td>\n",
       "      <td>...</td>\n",
       "      <td>0</td>\n",
       "      <td>0</td>\n",
       "      <td>0</td>\n",
       "      <td>0</td>\n",
       "      <td>0</td>\n",
       "      <td>0</td>\n",
       "      <td>0</td>\n",
       "      <td>0</td>\n",
       "      <td>0</td>\n",
       "      <td>0</td>\n",
       "    </tr>\n",
       "  </tbody>\n",
       "</table>\n",
       "<p>5 rows × 96589 columns</p>\n",
       "</div>"
      ],
      "text/plain": [
       "user_id  0       1       2       3       4       5       6       8       \\\n",
       "book_id                                                                   \n",
       "22            1       0       0       0       0       0       0       0   \n",
       "29            0       0       0       0       0       0       0       0   \n",
       "71            0       0       0       0       0       0       0       0   \n",
       "76            0       0       0       0       0       0       0       0   \n",
       "80            0       0       0       0       0       0       0       0   \n",
       "\n",
       "user_id  9       11      ...  172067  172068  172069  172070  172071  172072  \\\n",
       "book_id                  ...                                                   \n",
       "22            0       0  ...       0       0       0       0       0       0   \n",
       "29            0       0  ...       0       0       0       0       0       0   \n",
       "71            0       0  ...       0       0       0       0       0       0   \n",
       "76            0       0  ...       0       0       0       0       0       0   \n",
       "80            0       1  ...       0       0       0       0       0       0   \n",
       "\n",
       "user_id  172073  172075  172076  172078  \n",
       "book_id                                  \n",
       "22            0       0       0       0  \n",
       "29            0       0       0       0  \n",
       "71            0       0       0       0  \n",
       "76            0       0       0       0  \n",
       "80            0       0       0       0  \n",
       "\n",
       "[5 rows x 96589 columns]"
      ]
     },
     "execution_count": 36,
     "metadata": {},
     "output_type": "execute_result"
    }
   ],
   "source": [
    "book_user.head()"
   ]
  },
  {
   "cell_type": "code",
   "execution_count": 37,
   "metadata": {},
   "outputs": [],
   "source": [
    "def create_book_user_ratings_matrix(df):\n",
    "    '''\n",
    "    Return a matrix with book ids as rows and user ids on the columns\n",
    "    '''\n",
    "    book_user_nans = df.pivot(index='book_id', columns='user_id', values='rating')\n",
    "    book_user_counts = book_user_nans.fillna(0)\n",
    "\n",
    "    return book_user_counts # return the user_item matrix "
   ]
  },
  {
   "cell_type": "code",
   "execution_count": 38,
   "metadata": {},
   "outputs": [],
   "source": [
    "book_user_ratings = create_book_user_ratings_matrix(df_inter)"
   ]
  },
  {
   "cell_type": "code",
   "execution_count": 39,
   "metadata": {},
   "outputs": [
    {
     "data": {
      "text/html": [
       "<div>\n",
       "<style scoped>\n",
       "    .dataframe tbody tr th:only-of-type {\n",
       "        vertical-align: middle;\n",
       "    }\n",
       "\n",
       "    .dataframe tbody tr th {\n",
       "        vertical-align: top;\n",
       "    }\n",
       "\n",
       "    .dataframe thead th {\n",
       "        text-align: right;\n",
       "    }\n",
       "</style>\n",
       "<table border=\"1\" class=\"dataframe\">\n",
       "  <thead>\n",
       "    <tr style=\"text-align: right;\">\n",
       "      <th>user_id</th>\n",
       "      <th>0</th>\n",
       "      <th>1</th>\n",
       "      <th>2</th>\n",
       "      <th>3</th>\n",
       "      <th>4</th>\n",
       "      <th>5</th>\n",
       "      <th>6</th>\n",
       "      <th>8</th>\n",
       "      <th>9</th>\n",
       "      <th>11</th>\n",
       "      <th>...</th>\n",
       "      <th>172067</th>\n",
       "      <th>172068</th>\n",
       "      <th>172069</th>\n",
       "      <th>172070</th>\n",
       "      <th>172071</th>\n",
       "      <th>172072</th>\n",
       "      <th>172073</th>\n",
       "      <th>172075</th>\n",
       "      <th>172076</th>\n",
       "      <th>172078</th>\n",
       "    </tr>\n",
       "    <tr>\n",
       "      <th>book_id</th>\n",
       "      <th></th>\n",
       "      <th></th>\n",
       "      <th></th>\n",
       "      <th></th>\n",
       "      <th></th>\n",
       "      <th></th>\n",
       "      <th></th>\n",
       "      <th></th>\n",
       "      <th></th>\n",
       "      <th></th>\n",
       "      <th></th>\n",
       "      <th></th>\n",
       "      <th></th>\n",
       "      <th></th>\n",
       "      <th></th>\n",
       "      <th></th>\n",
       "      <th></th>\n",
       "      <th></th>\n",
       "      <th></th>\n",
       "      <th></th>\n",
       "      <th></th>\n",
       "    </tr>\n",
       "  </thead>\n",
       "  <tbody>\n",
       "    <tr>\n",
       "      <td>22</td>\n",
       "      <td>3.0</td>\n",
       "      <td>0.0</td>\n",
       "      <td>0.0</td>\n",
       "      <td>0.0</td>\n",
       "      <td>0.0</td>\n",
       "      <td>0.0</td>\n",
       "      <td>0.0</td>\n",
       "      <td>0.0</td>\n",
       "      <td>0.0</td>\n",
       "      <td>0.0</td>\n",
       "      <td>...</td>\n",
       "      <td>0.0</td>\n",
       "      <td>0.0</td>\n",
       "      <td>0.0</td>\n",
       "      <td>0.0</td>\n",
       "      <td>0.0</td>\n",
       "      <td>0.0</td>\n",
       "      <td>0.0</td>\n",
       "      <td>0.0</td>\n",
       "      <td>0.0</td>\n",
       "      <td>0.0</td>\n",
       "    </tr>\n",
       "    <tr>\n",
       "      <td>29</td>\n",
       "      <td>0.0</td>\n",
       "      <td>0.0</td>\n",
       "      <td>0.0</td>\n",
       "      <td>0.0</td>\n",
       "      <td>0.0</td>\n",
       "      <td>0.0</td>\n",
       "      <td>0.0</td>\n",
       "      <td>0.0</td>\n",
       "      <td>0.0</td>\n",
       "      <td>0.0</td>\n",
       "      <td>...</td>\n",
       "      <td>0.0</td>\n",
       "      <td>0.0</td>\n",
       "      <td>0.0</td>\n",
       "      <td>0.0</td>\n",
       "      <td>0.0</td>\n",
       "      <td>0.0</td>\n",
       "      <td>0.0</td>\n",
       "      <td>0.0</td>\n",
       "      <td>0.0</td>\n",
       "      <td>0.0</td>\n",
       "    </tr>\n",
       "    <tr>\n",
       "      <td>71</td>\n",
       "      <td>0.0</td>\n",
       "      <td>0.0</td>\n",
       "      <td>0.0</td>\n",
       "      <td>0.0</td>\n",
       "      <td>0.0</td>\n",
       "      <td>0.0</td>\n",
       "      <td>0.0</td>\n",
       "      <td>0.0</td>\n",
       "      <td>0.0</td>\n",
       "      <td>0.0</td>\n",
       "      <td>...</td>\n",
       "      <td>0.0</td>\n",
       "      <td>0.0</td>\n",
       "      <td>0.0</td>\n",
       "      <td>0.0</td>\n",
       "      <td>0.0</td>\n",
       "      <td>0.0</td>\n",
       "      <td>0.0</td>\n",
       "      <td>0.0</td>\n",
       "      <td>0.0</td>\n",
       "      <td>0.0</td>\n",
       "    </tr>\n",
       "    <tr>\n",
       "      <td>76</td>\n",
       "      <td>0.0</td>\n",
       "      <td>0.0</td>\n",
       "      <td>0.0</td>\n",
       "      <td>0.0</td>\n",
       "      <td>0.0</td>\n",
       "      <td>0.0</td>\n",
       "      <td>0.0</td>\n",
       "      <td>0.0</td>\n",
       "      <td>0.0</td>\n",
       "      <td>0.0</td>\n",
       "      <td>...</td>\n",
       "      <td>0.0</td>\n",
       "      <td>0.0</td>\n",
       "      <td>0.0</td>\n",
       "      <td>0.0</td>\n",
       "      <td>0.0</td>\n",
       "      <td>0.0</td>\n",
       "      <td>0.0</td>\n",
       "      <td>0.0</td>\n",
       "      <td>0.0</td>\n",
       "      <td>0.0</td>\n",
       "    </tr>\n",
       "    <tr>\n",
       "      <td>80</td>\n",
       "      <td>0.0</td>\n",
       "      <td>0.0</td>\n",
       "      <td>0.0</td>\n",
       "      <td>0.0</td>\n",
       "      <td>0.0</td>\n",
       "      <td>0.0</td>\n",
       "      <td>0.0</td>\n",
       "      <td>0.0</td>\n",
       "      <td>0.0</td>\n",
       "      <td>4.0</td>\n",
       "      <td>...</td>\n",
       "      <td>0.0</td>\n",
       "      <td>0.0</td>\n",
       "      <td>0.0</td>\n",
       "      <td>0.0</td>\n",
       "      <td>0.0</td>\n",
       "      <td>0.0</td>\n",
       "      <td>0.0</td>\n",
       "      <td>0.0</td>\n",
       "      <td>0.0</td>\n",
       "      <td>0.0</td>\n",
       "    </tr>\n",
       "  </tbody>\n",
       "</table>\n",
       "<p>5 rows × 96589 columns</p>\n",
       "</div>"
      ],
      "text/plain": [
       "user_id  0       1       2       3       4       5       6       8       \\\n",
       "book_id                                                                   \n",
       "22          3.0     0.0     0.0     0.0     0.0     0.0     0.0     0.0   \n",
       "29          0.0     0.0     0.0     0.0     0.0     0.0     0.0     0.0   \n",
       "71          0.0     0.0     0.0     0.0     0.0     0.0     0.0     0.0   \n",
       "76          0.0     0.0     0.0     0.0     0.0     0.0     0.0     0.0   \n",
       "80          0.0     0.0     0.0     0.0     0.0     0.0     0.0     0.0   \n",
       "\n",
       "user_id  9       11      ...  172067  172068  172069  172070  172071  172072  \\\n",
       "book_id                  ...                                                   \n",
       "22          0.0     0.0  ...     0.0     0.0     0.0     0.0     0.0     0.0   \n",
       "29          0.0     0.0  ...     0.0     0.0     0.0     0.0     0.0     0.0   \n",
       "71          0.0     0.0  ...     0.0     0.0     0.0     0.0     0.0     0.0   \n",
       "76          0.0     0.0  ...     0.0     0.0     0.0     0.0     0.0     0.0   \n",
       "80          0.0     4.0  ...     0.0     0.0     0.0     0.0     0.0     0.0   \n",
       "\n",
       "user_id  172073  172075  172076  172078  \n",
       "book_id                                  \n",
       "22          0.0     0.0     0.0     0.0  \n",
       "29          0.0     0.0     0.0     0.0  \n",
       "71          0.0     0.0     0.0     0.0  \n",
       "76          0.0     0.0     0.0     0.0  \n",
       "80          0.0     0.0     0.0     0.0  \n",
       "\n",
       "[5 rows x 96589 columns]"
      ]
     },
     "execution_count": 39,
     "metadata": {},
     "output_type": "execute_result"
    }
   ],
   "source": [
    "book_user_ratings.head()"
   ]
  },
  {
   "cell_type": "code",
   "execution_count": null,
   "metadata": {},
   "outputs": [],
   "source": []
  },
  {
   "cell_type": "markdown",
   "metadata": {},
   "source": [
    "# Collaborative Filtering with Pearson Correlation"
   ]
  },
  {
   "cell_type": "markdown",
   "metadata": {},
   "source": [
    "## With Binary Matrix"
   ]
  },
  {
   "cell_type": "code",
   "execution_count": 117,
   "metadata": {},
   "outputs": [],
   "source": [
    "def find_similar_books_pearson(book_id, user_item=book_user):\n",
    "    \"\"\"For each book, calculate cosine simularity for book_id\"\"\"\n",
    "    # Initiate dataframe with fake row\n",
    "    df_simularity = pd.DataFrame([[9999,0]], columns = ['book_id', 'sim'])\n",
    "    for book in user_item.index:\n",
    "        df_simularity = df_simularity.append(pd.DataFrame([[book, np.corrcoef(user_item.loc[book], user_item.loc[book_id])[1][0]]], columns=df_simularity.columns)) \n",
    "       \n",
    "    return df_simularity # return a list of the users in order from most to least similar\n"
   ]
  },
  {
   "cell_type": "code",
   "execution_count": 118,
   "metadata": {},
   "outputs": [
    {
     "name": "stderr",
     "output_type": "stream",
     "text": [
      "/opt/anaconda3/lib/python3.7/site-packages/numpy/lib/function_base.py:2534: RuntimeWarning: invalid value encountered in true_divide\n",
      "  c /= stddev[:, None]\n",
      "/opt/anaconda3/lib/python3.7/site-packages/numpy/lib/function_base.py:2535: RuntimeWarning: invalid value encountered in true_divide\n",
      "  c /= stddev[None, :]\n"
     ]
    }
   ],
   "source": [
    "# Basic Economics 3023\n",
    "df_book_similarity_be = find_similar_books_pearson(3023)"
   ]
  },
  {
   "cell_type": "code",
   "execution_count": 119,
   "metadata": {},
   "outputs": [],
   "source": [
    "# Globalization and its Discontents\n",
    "df_book_similarity_gd = find_similar_books_pearson(87661)"
   ]
  },
  {
   "cell_type": "code",
   "execution_count": 120,
   "metadata": {},
   "outputs": [],
   "source": [
    "# The Shock Doctrine: The Rise of Disaster Capitalism 1237300\n",
    "df_book_similarity_sd = find_similar_books_pearson(1237300)"
   ]
  },
  {
   "cell_type": "code",
   "execution_count": 121,
   "metadata": {},
   "outputs": [],
   "source": [
    "# Modern Times: The World from the Twenties to the Nineties 55304\n",
    "df_book_similarity_md = find_similar_books_pearson(55304)"
   ]
  },
  {
   "cell_type": "code",
   "execution_count": 122,
   "metadata": {},
   "outputs": [],
   "source": [
    "def match_sim_book_title(df_book_similarity, genre_1, genre_2):\n",
    "    df_book_similarity = df_book_similarity[1:]\n",
    "    df_books_filterd_sim = df_books[df_books[\"book_id\"].isin(df_book_similarity[\"book_id\"])]\n",
    "    df_sim_final = pd.merge(df_books_filterd_sim, df_book_similarity, how=\"left\", on=\"book_id\")\n",
    "    df_sim_final = df_sim_final.sort_values(by='sim', ascending=True)\n",
    "    df_sim_same_genres = df_sim_final.loc[(df_sim_final[genre_1]==1) & \\\n",
    "                     (df_sim_final[genre_2]==1)]\n",
    "    return df_sim_same_genres[[\"title\", \"book_id\", \"sim\"]].sort_values(by=['sim'])"
   ]
  },
  {
   "cell_type": "code",
   "execution_count": 334,
   "metadata": {},
   "outputs": [
    {
     "data": {
      "text/html": [
       "<div>\n",
       "<style scoped>\n",
       "    .dataframe tbody tr th:only-of-type {\n",
       "        vertical-align: middle;\n",
       "    }\n",
       "\n",
       "    .dataframe tbody tr th {\n",
       "        vertical-align: top;\n",
       "    }\n",
       "\n",
       "    .dataframe thead th {\n",
       "        text-align: right;\n",
       "    }\n",
       "</style>\n",
       "<table border=\"1\" class=\"dataframe\">\n",
       "  <thead>\n",
       "    <tr style=\"text-align: right;\">\n",
       "      <th></th>\n",
       "      <th>title</th>\n",
       "      <th>book_id</th>\n",
       "      <th>sim</th>\n",
       "    </tr>\n",
       "  </thead>\n",
       "  <tbody>\n",
       "    <tr>\n",
       "      <td>8486</td>\n",
       "      <td>Pathologies of Power: Health, Human Rights and the New War on the Poor</td>\n",
       "      <td>10232</td>\n",
       "      <td>-0.002563</td>\n",
       "    </tr>\n",
       "    <tr>\n",
       "      <td>10948</td>\n",
       "      <td>The Hydrogen Economy: The Creation of the Worldwide Energy Web and the Redis...</td>\n",
       "      <td>23164</td>\n",
       "      <td>-0.001538</td>\n",
       "    </tr>\n",
       "    <tr>\n",
       "      <td>9216</td>\n",
       "      <td>The Starfish and the Spider: The Unstoppable Power of Leaderless Organizations</td>\n",
       "      <td>21314</td>\n",
       "      <td>-0.001397</td>\n",
       "    </tr>\n",
       "    <tr>\n",
       "      <td>11609</td>\n",
       "      <td>In Our Hands: A Plan to Replace the Welfare State</td>\n",
       "      <td>78092</td>\n",
       "      <td>-0.001291</td>\n",
       "    </tr>\n",
       "    <tr>\n",
       "      <td>10786</td>\n",
       "      <td>Applied Economics: Thinking Beyond Stage One</td>\n",
       "      <td>3041</td>\n",
       "      <td>-0.001278</td>\n",
       "    </tr>\n",
       "  </tbody>\n",
       "</table>\n",
       "</div>"
      ],
      "text/plain": [
       "                                                                                 title  book_id       sim\n",
       "8486            Pathologies of Power: Health, Human Rights and the New War on the Poor    10232 -0.002563\n",
       "10948  The Hydrogen Economy: The Creation of the Worldwide Energy Web and the Redis...    23164 -0.001538\n",
       "9216    The Starfish and the Spider: The Unstoppable Power of Leaderless Organizations    21314 -0.001397\n",
       "11609                                In Our Hands: A Plan to Replace the Welfare State    78092 -0.001291\n",
       "10786                                     Applied Economics: Thinking Beyond Stage One     3041 -0.001278"
      ]
     },
     "execution_count": 334,
     "metadata": {},
     "output_type": "execute_result"
    }
   ],
   "source": [
    "# Basic Economics 3023\n",
    "match_sim_book_title(df_book_similarity_be, \"economics\", \"politics\").head()"
   ]
  },
  {
   "cell_type": "code",
   "execution_count": 153,
   "metadata": {},
   "outputs": [
    {
     "data": {
      "text/html": [
       "<div>\n",
       "<style scoped>\n",
       "    .dataframe tbody tr th:only-of-type {\n",
       "        vertical-align: middle;\n",
       "    }\n",
       "\n",
       "    .dataframe tbody tr th {\n",
       "        vertical-align: top;\n",
       "    }\n",
       "\n",
       "    .dataframe thead th {\n",
       "        text-align: right;\n",
       "    }\n",
       "</style>\n",
       "<table border=\"1\" class=\"dataframe\">\n",
       "  <thead>\n",
       "    <tr style=\"text-align: right;\">\n",
       "      <th></th>\n",
       "      <th>title</th>\n",
       "      <th>book_id</th>\n",
       "      <th>sim</th>\n",
       "    </tr>\n",
       "  </thead>\n",
       "  <tbody>\n",
       "    <tr>\n",
       "      <td>10948</td>\n",
       "      <td>The Hydrogen Economy: The Creation of the Worl...</td>\n",
       "      <td>23164</td>\n",
       "      <td>-0.001810</td>\n",
       "    </tr>\n",
       "    <tr>\n",
       "      <td>9216</td>\n",
       "      <td>The Starfish and the Spider: The Unstoppable P...</td>\n",
       "      <td>21314</td>\n",
       "      <td>-0.001644</td>\n",
       "    </tr>\n",
       "    <tr>\n",
       "      <td>5889</td>\n",
       "      <td>The Good Society: The Humane Agenda</td>\n",
       "      <td>55267</td>\n",
       "      <td>-0.001481</td>\n",
       "    </tr>\n",
       "    <tr>\n",
       "      <td>572</td>\n",
       "      <td>Natural Capitalism</td>\n",
       "      <td>683</td>\n",
       "      <td>-0.001347</td>\n",
       "    </tr>\n",
       "    <tr>\n",
       "      <td>10789</td>\n",
       "      <td>The Vision of the Anointed: Self-Congratulatio...</td>\n",
       "      <td>3044</td>\n",
       "      <td>-0.001330</td>\n",
       "    </tr>\n",
       "  </tbody>\n",
       "</table>\n",
       "</div>"
      ],
      "text/plain": [
       "                                                   title  book_id       sim\n",
       "10948  The Hydrogen Economy: The Creation of the Worl...    23164 -0.001810\n",
       "9216   The Starfish and the Spider: The Unstoppable P...    21314 -0.001644\n",
       "5889                 The Good Society: The Humane Agenda    55267 -0.001481\n",
       "572                                   Natural Capitalism      683 -0.001347\n",
       "10789  The Vision of the Anointed: Self-Congratulatio...     3044 -0.001330"
      ]
     },
     "execution_count": 153,
     "metadata": {},
     "output_type": "execute_result"
    }
   ],
   "source": [
    "# Globalization and its Discontents\n",
    "match_sim_book_title(df_book_similarity_gd, \"economics\", \"politics\").head()"
   ]
  },
  {
   "cell_type": "code",
   "execution_count": 330,
   "metadata": {},
   "outputs": [
    {
     "data": {
      "text/html": [
       "<div>\n",
       "<style scoped>\n",
       "    .dataframe tbody tr th:only-of-type {\n",
       "        vertical-align: middle;\n",
       "    }\n",
       "\n",
       "    .dataframe tbody tr th {\n",
       "        vertical-align: top;\n",
       "    }\n",
       "\n",
       "    .dataframe thead th {\n",
       "        text-align: right;\n",
       "    }\n",
       "</style>\n",
       "<table border=\"1\" class=\"dataframe\">\n",
       "  <thead>\n",
       "    <tr style=\"text-align: right;\">\n",
       "      <th></th>\n",
       "      <th>title</th>\n",
       "      <th>book_id</th>\n",
       "      <th>sim</th>\n",
       "    </tr>\n",
       "  </thead>\n",
       "  <tbody>\n",
       "    <tr>\n",
       "      <td>8484</td>\n",
       "      <td>Pathologies of Power: Health, Human Rights and the New War on the Poor</td>\n",
       "      <td>10232</td>\n",
       "      <td>-0.000503</td>\n",
       "    </tr>\n",
       "    <tr>\n",
       "      <td>10946</td>\n",
       "      <td>The Hydrogen Economy: The Creation of the Worldwide Energy Web and the Redis...</td>\n",
       "      <td>23164</td>\n",
       "      <td>-0.000302</td>\n",
       "    </tr>\n",
       "    <tr>\n",
       "      <td>10786</td>\n",
       "      <td>Knowledge And Decisions</td>\n",
       "      <td>3042</td>\n",
       "      <td>-0.000300</td>\n",
       "    </tr>\n",
       "    <tr>\n",
       "      <td>9214</td>\n",
       "      <td>The Starfish and the Spider: The Unstoppable Power of Leaderless Organizations</td>\n",
       "      <td>21314</td>\n",
       "      <td>-0.000274</td>\n",
       "    </tr>\n",
       "    <tr>\n",
       "      <td>11607</td>\n",
       "      <td>In Our Hands: A Plan to Replace the Welfare State</td>\n",
       "      <td>78092</td>\n",
       "      <td>-0.000253</td>\n",
       "    </tr>\n",
       "  </tbody>\n",
       "</table>\n",
       "</div>"
      ],
      "text/plain": [
       "                                                                                 title  book_id       sim\n",
       "8484            Pathologies of Power: Health, Human Rights and the New War on the Poor    10232 -0.000503\n",
       "10946  The Hydrogen Economy: The Creation of the Worldwide Energy Web and the Redis...    23164 -0.000302\n",
       "10786                                                          Knowledge And Decisions     3042 -0.000300\n",
       "9214    The Starfish and the Spider: The Unstoppable Power of Leaderless Organizations    21314 -0.000274\n",
       "11607                                In Our Hands: A Plan to Replace the Welfare State    78092 -0.000253"
      ]
     },
     "execution_count": 330,
     "metadata": {},
     "output_type": "execute_result"
    }
   ],
   "source": [
    "# The Shock Doctrine: The Rise of Disaster Capitalism 1237300\n",
    "match_sim_book_title(df_book_similarity_sd, \"economics\", \"politics\").head()"
   ]
  },
  {
   "cell_type": "code",
   "execution_count": 331,
   "metadata": {},
   "outputs": [
    {
     "data": {
      "text/html": [
       "<div>\n",
       "<style scoped>\n",
       "    .dataframe tbody tr th:only-of-type {\n",
       "        vertical-align: middle;\n",
       "    }\n",
       "\n",
       "    .dataframe tbody tr th {\n",
       "        vertical-align: top;\n",
       "    }\n",
       "\n",
       "    .dataframe thead th {\n",
       "        text-align: right;\n",
       "    }\n",
       "</style>\n",
       "<table border=\"1\" class=\"dataframe\">\n",
       "  <thead>\n",
       "    <tr style=\"text-align: right;\">\n",
       "      <th></th>\n",
       "      <th>title</th>\n",
       "      <th>book_id</th>\n",
       "      <th>sim</th>\n",
       "    </tr>\n",
       "  </thead>\n",
       "  <tbody>\n",
       "    <tr>\n",
       "      <td>10948</td>\n",
       "      <td>The Hydrogen Economy: The Creation of the Worldwide Energy Web and the Redis...</td>\n",
       "      <td>23164</td>\n",
       "      <td>-0.001415</td>\n",
       "    </tr>\n",
       "    <tr>\n",
       "      <td>10788</td>\n",
       "      <td>Knowledge And Decisions</td>\n",
       "      <td>3042</td>\n",
       "      <td>-0.001409</td>\n",
       "    </tr>\n",
       "    <tr>\n",
       "      <td>10786</td>\n",
       "      <td>Applied Economics: Thinking Beyond Stage One</td>\n",
       "      <td>3041</td>\n",
       "      <td>-0.001175</td>\n",
       "    </tr>\n",
       "    <tr>\n",
       "      <td>5889</td>\n",
       "      <td>The Good Society: The Humane Agenda</td>\n",
       "      <td>55267</td>\n",
       "      <td>-0.001158</td>\n",
       "    </tr>\n",
       "    <tr>\n",
       "      <td>572</td>\n",
       "      <td>Natural Capitalism</td>\n",
       "      <td>683</td>\n",
       "      <td>-0.001053</td>\n",
       "    </tr>\n",
       "  </tbody>\n",
       "</table>\n",
       "</div>"
      ],
      "text/plain": [
       "                                                                                 title  book_id       sim\n",
       "10948  The Hydrogen Economy: The Creation of the Worldwide Energy Web and the Redis...    23164 -0.001415\n",
       "10788                                                          Knowledge And Decisions     3042 -0.001409\n",
       "10786                                     Applied Economics: Thinking Beyond Stage One     3041 -0.001175\n",
       "5889                                               The Good Society: The Humane Agenda    55267 -0.001158\n",
       "572                                                                 Natural Capitalism      683 -0.001053"
      ]
     },
     "execution_count": 331,
     "metadata": {},
     "output_type": "execute_result"
    }
   ],
   "source": [
    "# Modern Times: The World from the Twenties to the Nineties 55304\n",
    "match_sim_book_title(df_book_similarity_md, \"economics\", \"politics\").head()"
   ]
  },
  {
   "cell_type": "code",
   "execution_count": null,
   "metadata": {},
   "outputs": [],
   "source": []
  },
  {
   "cell_type": "markdown",
   "metadata": {},
   "source": [
    "## With Ratings Matrix"
   ]
  },
  {
   "cell_type": "code",
   "execution_count": 124,
   "metadata": {},
   "outputs": [],
   "source": [
    "def find_similar_books_ratings_pearson(book_id, user_item=book_user_ratings):\n",
    "    \"\"\"For each book, calculate cosine simularity for book_id\"\"\"\n",
    "    # Initiate dataframe with fake row\n",
    "    df_simularity = pd.DataFrame([[9999,0]], columns = ['book_id', 'sim'])\n",
    "    for book in user_item.index:\n",
    "        df_simularity = df_simularity.append(pd.DataFrame([[book, np.corrcoef(user_item.loc[book], user_item.loc[book_id])[1][0]]], columns=df_simularity.columns)) \n",
    "       \n",
    "    return df_simularity # return a list of the users in order from most to least similar\n"
   ]
  },
  {
   "cell_type": "code",
   "execution_count": 317,
   "metadata": {},
   "outputs": [
    {
     "name": "stderr",
     "output_type": "stream",
     "text": [
      "/opt/anaconda3/lib/python3.7/site-packages/numpy/lib/function_base.py:2534: RuntimeWarning: invalid value encountered in true_divide\n",
      "  c /= stddev[:, None]\n",
      "/opt/anaconda3/lib/python3.7/site-packages/numpy/lib/function_base.py:2535: RuntimeWarning: invalid value encountered in true_divide\n",
      "  c /= stddev[None, :]\n"
     ]
    }
   ],
   "source": [
    "# Basic Economics 3023\n",
    "df_book_similarity_ratings_be = find_similar_books_ratings_pearson(3023)"
   ]
  },
  {
   "cell_type": "code",
   "execution_count": 335,
   "metadata": {},
   "outputs": [
    {
     "data": {
      "text/html": [
       "<div>\n",
       "<style scoped>\n",
       "    .dataframe tbody tr th:only-of-type {\n",
       "        vertical-align: middle;\n",
       "    }\n",
       "\n",
       "    .dataframe tbody tr th {\n",
       "        vertical-align: top;\n",
       "    }\n",
       "\n",
       "    .dataframe thead th {\n",
       "        text-align: right;\n",
       "    }\n",
       "</style>\n",
       "<table border=\"1\" class=\"dataframe\">\n",
       "  <thead>\n",
       "    <tr style=\"text-align: right;\">\n",
       "      <th></th>\n",
       "      <th>title</th>\n",
       "      <th>book_id</th>\n",
       "      <th>sim</th>\n",
       "    </tr>\n",
       "  </thead>\n",
       "  <tbody>\n",
       "    <tr>\n",
       "      <td>8486</td>\n",
       "      <td>Pathologies of Power: Health, Human Rights and the New War on the Poor</td>\n",
       "      <td>10232</td>\n",
       "      <td>-0.002427</td>\n",
       "    </tr>\n",
       "    <tr>\n",
       "      <td>10948</td>\n",
       "      <td>The Hydrogen Economy: The Creation of the Worldwide Energy Web and the Redis...</td>\n",
       "      <td>23164</td>\n",
       "      <td>-0.001445</td>\n",
       "    </tr>\n",
       "    <tr>\n",
       "      <td>9216</td>\n",
       "      <td>The Starfish and the Spider: The Unstoppable Power of Leaderless Organizations</td>\n",
       "      <td>21314</td>\n",
       "      <td>-0.001328</td>\n",
       "    </tr>\n",
       "    <tr>\n",
       "      <td>10786</td>\n",
       "      <td>Applied Economics: Thinking Beyond Stage One</td>\n",
       "      <td>3041</td>\n",
       "      <td>-0.001214</td>\n",
       "    </tr>\n",
       "    <tr>\n",
       "      <td>11609</td>\n",
       "      <td>In Our Hands: A Plan to Replace the Welfare State</td>\n",
       "      <td>78092</td>\n",
       "      <td>-0.001212</td>\n",
       "    </tr>\n",
       "  </tbody>\n",
       "</table>\n",
       "</div>"
      ],
      "text/plain": [
       "                                                                                 title  book_id       sim\n",
       "8486            Pathologies of Power: Health, Human Rights and the New War on the Poor    10232 -0.002427\n",
       "10948  The Hydrogen Economy: The Creation of the Worldwide Energy Web and the Redis...    23164 -0.001445\n",
       "9216    The Starfish and the Spider: The Unstoppable Power of Leaderless Organizations    21314 -0.001328\n",
       "10786                                     Applied Economics: Thinking Beyond Stage One     3041 -0.001214\n",
       "11609                                In Our Hands: A Plan to Replace the Welfare State    78092 -0.001212"
      ]
     },
     "execution_count": 335,
     "metadata": {},
     "output_type": "execute_result"
    }
   ],
   "source": [
    "match_sim_book_title(df_book_similarity_ratings_be, \"economics\", \"politics\").head()"
   ]
  },
  {
   "cell_type": "code",
   "execution_count": 323,
   "metadata": {},
   "outputs": [],
   "source": [
    "# The Shock Doctrine: The Rise of Disaster Capitalism 1237300\n",
    "df_book_similarity_ratings_sd = find_similar_books_ratings_pearson(1237300)"
   ]
  },
  {
   "cell_type": "code",
   "execution_count": 339,
   "metadata": {},
   "outputs": [
    {
     "data": {
      "text/html": [
       "<div>\n",
       "<style scoped>\n",
       "    .dataframe tbody tr th:only-of-type {\n",
       "        vertical-align: middle;\n",
       "    }\n",
       "\n",
       "    .dataframe tbody tr th {\n",
       "        vertical-align: top;\n",
       "    }\n",
       "\n",
       "    .dataframe thead th {\n",
       "        text-align: right;\n",
       "    }\n",
       "</style>\n",
       "<table border=\"1\" class=\"dataframe\">\n",
       "  <thead>\n",
       "    <tr style=\"text-align: right;\">\n",
       "      <th></th>\n",
       "      <th>title</th>\n",
       "      <th>book_id</th>\n",
       "      <th>sim</th>\n",
       "    </tr>\n",
       "  </thead>\n",
       "  <tbody>\n",
       "    <tr>\n",
       "      <td>8486</td>\n",
       "      <td>Pathologies of Power: Health, Human Rights and the New War on the Poor</td>\n",
       "      <td>10232</td>\n",
       "      <td>-0.000491</td>\n",
       "    </tr>\n",
       "    <tr>\n",
       "      <td>10788</td>\n",
       "      <td>Knowledge And Decisions</td>\n",
       "      <td>3042</td>\n",
       "      <td>-0.000296</td>\n",
       "    </tr>\n",
       "    <tr>\n",
       "      <td>10948</td>\n",
       "      <td>The Hydrogen Economy: The Creation of the Worldwide Energy Web and the Redis...</td>\n",
       "      <td>23164</td>\n",
       "      <td>-0.000293</td>\n",
       "    </tr>\n",
       "    <tr>\n",
       "      <td>9216</td>\n",
       "      <td>The Starfish and the Spider: The Unstoppable Power of Leaderless Organizations</td>\n",
       "      <td>21314</td>\n",
       "      <td>-0.000269</td>\n",
       "    </tr>\n",
       "    <tr>\n",
       "      <td>10786</td>\n",
       "      <td>Applied Economics: Thinking Beyond Stage One</td>\n",
       "      <td>3041</td>\n",
       "      <td>-0.000246</td>\n",
       "    </tr>\n",
       "  </tbody>\n",
       "</table>\n",
       "</div>"
      ],
      "text/plain": [
       "                                                                                 title  book_id       sim\n",
       "8486            Pathologies of Power: Health, Human Rights and the New War on the Poor    10232 -0.000491\n",
       "10788                                                          Knowledge And Decisions     3042 -0.000296\n",
       "10948  The Hydrogen Economy: The Creation of the Worldwide Energy Web and the Redis...    23164 -0.000293\n",
       "9216    The Starfish and the Spider: The Unstoppable Power of Leaderless Organizations    21314 -0.000269\n",
       "10786                                     Applied Economics: Thinking Beyond Stage One     3041 -0.000246"
      ]
     },
     "execution_count": 339,
     "metadata": {},
     "output_type": "execute_result"
    }
   ],
   "source": [
    "match_sim_book_title(df_book_similarity_ratings_sd, \"economics\", \"politics\").head()"
   ]
  },
  {
   "cell_type": "code",
   "execution_count": null,
   "metadata": {},
   "outputs": [],
   "source": []
  },
  {
   "cell_type": "markdown",
   "metadata": {},
   "source": [
    "# Collaborative Filtering with Surprise"
   ]
  },
  {
   "cell_type": "code",
   "execution_count": 40,
   "metadata": {},
   "outputs": [],
   "source": [
    "from surprise import KNNBasic, KNNWithMeans, KNNWithMeansDifferViews\n",
    "from surprise import Reader\n",
    "from surprise import Dataset\n",
    "from surprise import accuracy\n",
    "from surprise.model_selection import train_test_split\n",
    "from surprise.model_selection import cross_validate"
   ]
  },
  {
   "cell_type": "code",
   "execution_count": 99,
   "metadata": {},
   "outputs": [],
   "source": [
    "#df_inter_small = df_inter[1:50000]"
   ]
  },
  {
   "cell_type": "code",
   "execution_count": 89,
   "metadata": {},
   "outputs": [],
   "source": [
    "reader = Reader(rating_scale=(1, 5))\n",
    "dataset_inter = Dataset.load_from_df(df_inter, reader)"
   ]
  },
  {
   "cell_type": "code",
   "execution_count": 90,
   "metadata": {},
   "outputs": [],
   "source": [
    "trainset, testset = train_test_split(dataset_inter, test_size=.01)"
   ]
  },
  {
   "cell_type": "code",
   "execution_count": 91,
   "metadata": {},
   "outputs": [],
   "source": [
    "sim_options = {'name': 'cosine',\n",
    "               'user_based': False,  # compute  similarities between items,\n",
    "               'min_support': 5\n",
    "               }\n",
    "algo = KNNWithMeansDifferViews(sim_options=sim_options)"
   ]
  },
  {
   "cell_type": "code",
   "execution_count": 92,
   "metadata": {},
   "outputs": [
    {
     "data": {
      "text/plain": [
       "16364"
      ]
     },
     "execution_count": 92,
     "metadata": {},
     "output_type": "execute_result"
    }
   ],
   "source": [
    "trainset.n_items"
   ]
  },
  {
   "cell_type": "code",
   "execution_count": 93,
   "metadata": {},
   "outputs": [
    {
     "name": "stdout",
     "output_type": "stream",
     "text": [
      "Computing the cosine similarity matrix...\n",
      "Done computing similarity matrix.\n",
      "RMSE: 1.3261\n"
     ]
    },
    {
     "data": {
      "text/plain": [
       "1.326136152741505"
      ]
     },
     "execution_count": 93,
     "metadata": {},
     "output_type": "execute_result"
    }
   ],
   "source": [
    "# Train the algorithm on the trainset, and predict ratings for the testset\n",
    "algo.fit(trainset)\n",
    "predictions = algo.test(testset)\n",
    "\n",
    "# Then compute RMSE\n",
    "accuracy.rmse(predictions)"
   ]
  },
  {
   "cell_type": "code",
   "execution_count": 137,
   "metadata": {},
   "outputs": [
    {
     "data": {
      "text/plain": [
       "[1294, 295, 57, 1305, 3842, 448]"
      ]
     },
     "execution_count": 137,
     "metadata": {},
     "output_type": "execute_result"
    }
   ],
   "source": [
    "book_id_n = 4201 # Modern Times (inner id)\n",
    "algo.get_neighbors(book_id_n, k=6)"
   ]
  },
  {
   "cell_type": "code",
   "execution_count": 150,
   "metadata": {},
   "outputs": [],
   "source": [
    "# Get 10 least similar books\n",
    "top_n_neighbors = algo.get_neighbors(book_id_n, k=trainset.n_items)[-50:]"
   ]
  },
  {
   "cell_type": "code",
   "execution_count": 151,
   "metadata": {},
   "outputs": [],
   "source": [
    "def convert_to_titles(top_n_neighbors, genre_1, genre_2):\n",
    "    raw_ids_list = []\n",
    "    for num in top_n_neighbors:\n",
    "        try:\n",
    "            raw_id = algo.trainset.to_raw_iid(num)\n",
    "            raw_ids_list.append(raw_id)\n",
    "        except Exception:\n",
    "            pass\n",
    "    df_books_sim = df_books[df_books[\"book_id\"].isin(raw_ids_list)][['title', 'book_id', 'economics', 'politics', 'sociology',\n",
    "                                                   'society', 'political-science', 'government', 'history', 'philosophy', 'theory']] \n",
    "    df_books_sim = df_books_sim.loc[(df_books_sim[genre_1]==1) & \\\n",
    "                     (df_books_sim[genre_2]==1)]\n",
    "    return df_books_sim\n"
   ]
  },
  {
   "cell_type": "code",
   "execution_count": 152,
   "metadata": {},
   "outputs": [
    {
     "data": {
      "text/html": [
       "<div>\n",
       "<style scoped>\n",
       "    .dataframe tbody tr th:only-of-type {\n",
       "        vertical-align: middle;\n",
       "    }\n",
       "\n",
       "    .dataframe tbody tr th {\n",
       "        vertical-align: top;\n",
       "    }\n",
       "\n",
       "    .dataframe thead th {\n",
       "        text-align: right;\n",
       "    }\n",
       "</style>\n",
       "<table border=\"1\" class=\"dataframe\">\n",
       "  <thead>\n",
       "    <tr style=\"text-align: right;\">\n",
       "      <th></th>\n",
       "      <th>title</th>\n",
       "      <th>book_id</th>\n",
       "      <th>economics</th>\n",
       "      <th>politics</th>\n",
       "      <th>sociology</th>\n",
       "      <th>society</th>\n",
       "      <th>political-science</th>\n",
       "      <th>government</th>\n",
       "      <th>history</th>\n",
       "      <th>philosophy</th>\n",
       "      <th>theory</th>\n",
       "    </tr>\n",
       "  </thead>\n",
       "  <tbody>\n",
       "    <tr>\n",
       "      <td>91742</td>\n",
       "      <td>Curveball: Spies, Lies, and the Man Behind The...</td>\n",
       "      <td>646563</td>\n",
       "      <td>0</td>\n",
       "      <td>1</td>\n",
       "      <td>0</td>\n",
       "      <td>0</td>\n",
       "      <td>0</td>\n",
       "      <td>0</td>\n",
       "      <td>1</td>\n",
       "      <td>0</td>\n",
       "      <td>0</td>\n",
       "    </tr>\n",
       "    <tr>\n",
       "      <td>118101</td>\n",
       "      <td>Beyond the White House: Waging Peace, Fighting...</td>\n",
       "      <td>1852087</td>\n",
       "      <td>0</td>\n",
       "      <td>1</td>\n",
       "      <td>0</td>\n",
       "      <td>0</td>\n",
       "      <td>0</td>\n",
       "      <td>0</td>\n",
       "      <td>1</td>\n",
       "      <td>0</td>\n",
       "      <td>0</td>\n",
       "    </tr>\n",
       "    <tr>\n",
       "      <td>245624</td>\n",
       "      <td>The Vanishing Newspaper: Saving Journalism in ...</td>\n",
       "      <td>572268</td>\n",
       "      <td>0</td>\n",
       "      <td>1</td>\n",
       "      <td>0</td>\n",
       "      <td>0</td>\n",
       "      <td>0</td>\n",
       "      <td>0</td>\n",
       "      <td>1</td>\n",
       "      <td>0</td>\n",
       "      <td>0</td>\n",
       "    </tr>\n",
       "    <tr>\n",
       "      <td>281903</td>\n",
       "      <td>Modern Times: The World from the 20s to the 90s</td>\n",
       "      <td>616692</td>\n",
       "      <td>0</td>\n",
       "      <td>1</td>\n",
       "      <td>0</td>\n",
       "      <td>0</td>\n",
       "      <td>0</td>\n",
       "      <td>0</td>\n",
       "      <td>1</td>\n",
       "      <td>0</td>\n",
       "      <td>0</td>\n",
       "    </tr>\n",
       "    <tr>\n",
       "      <td>298376</td>\n",
       "      <td>They Thought They Were Free: The Germans 1933-45</td>\n",
       "      <td>978689</td>\n",
       "      <td>0</td>\n",
       "      <td>1</td>\n",
       "      <td>0</td>\n",
       "      <td>0</td>\n",
       "      <td>0</td>\n",
       "      <td>0</td>\n",
       "      <td>1</td>\n",
       "      <td>0</td>\n",
       "      <td>0</td>\n",
       "    </tr>\n",
       "    <tr>\n",
       "      <td>315046</td>\n",
       "      <td>Public Power in the Age of Empire</td>\n",
       "      <td>9775</td>\n",
       "      <td>0</td>\n",
       "      <td>1</td>\n",
       "      <td>0</td>\n",
       "      <td>0</td>\n",
       "      <td>0</td>\n",
       "      <td>0</td>\n",
       "      <td>1</td>\n",
       "      <td>0</td>\n",
       "      <td>0</td>\n",
       "    </tr>\n",
       "  </tbody>\n",
       "</table>\n",
       "</div>"
      ],
      "text/plain": [
       "                                                    title  book_id  economics  \\\n",
       "91742   Curveball: Spies, Lies, and the Man Behind The...   646563          0   \n",
       "118101  Beyond the White House: Waging Peace, Fighting...  1852087          0   \n",
       "245624  The Vanishing Newspaper: Saving Journalism in ...   572268          0   \n",
       "281903    Modern Times: The World from the 20s to the 90s   616692          0   \n",
       "298376   They Thought They Were Free: The Germans 1933-45   978689          0   \n",
       "315046                  Public Power in the Age of Empire     9775          0   \n",
       "\n",
       "        politics  sociology  society  political-science  government  history  \\\n",
       "91742          1          0        0                  0           0        1   \n",
       "118101         1          0        0                  0           0        1   \n",
       "245624         1          0        0                  0           0        1   \n",
       "281903         1          0        0                  0           0        1   \n",
       "298376         1          0        0                  0           0        1   \n",
       "315046         1          0        0                  0           0        1   \n",
       "\n",
       "        philosophy  theory  \n",
       "91742            0       0  \n",
       "118101           0       0  \n",
       "245624           0       0  \n",
       "281903           0       0  \n",
       "298376           0       0  \n",
       "315046           0       0  "
      ]
     },
     "execution_count": 152,
     "metadata": {},
     "output_type": "execute_result"
    }
   ],
   "source": [
    "convert_to_titles(top_n_neighbors, \"politics\", \"history\")"
   ]
  },
  {
   "cell_type": "code",
   "execution_count": 113,
   "metadata": {},
   "outputs": [
    {
     "data": {
      "text/plain": [
       "4201"
      ]
     },
     "execution_count": 113,
     "metadata": {},
     "output_type": "execute_result"
    }
   ],
   "source": [
    "algo.trainset.to_inner_iid(55304)"
   ]
  },
  {
   "cell_type": "code",
   "execution_count": 133,
   "metadata": {
    "scrolled": false
   },
   "outputs": [
    {
     "data": {
      "text/plain": [
       "55304"
      ]
     },
     "execution_count": 133,
     "metadata": {},
     "output_type": "execute_result"
    }
   ],
   "source": [
    "algo.trainset.to_raw_iid(4201)"
   ]
  },
  {
   "cell_type": "markdown",
   "metadata": {},
   "source": [
    "# Conclusions"
   ]
  },
  {
   "cell_type": "markdown",
   "metadata": {},
   "source": [
    "There are examples of recommendations that are of differing opinions supplied via the Pearson negative correlation method. However, the results are too inconsistent to rule out their appearance being due to chance. Even if their appearance is not due to chance, we still tend to see recommendations for books at are not of conflicting views, since after all most books will have little shared interactions between them. Due to the recommender system not passing manual review quality checks, an evaluation metric was not chosen.\n",
    "\n",
    "To improve upon the results, there are two promising approaches I would try next. First, user-generated \"progressive\" and \"conservative\" labels would be used in the modeling process. Additionally automated machine learning would be used to apply labels to books not already labeled progressive or conservative. Then, genre filters would be applied. Secondly, more research would be put into users that tend to only read progressive and conservative books and then modify a similarity formula to work with these types of users."
   ]
  },
  {
   "cell_type": "code",
   "execution_count": null,
   "metadata": {},
   "outputs": [],
   "source": []
  }
 ],
 "metadata": {
  "kernelspec": {
   "display_name": "Python 3",
   "language": "python",
   "name": "python3"
  },
  "language_info": {
   "codemirror_mode": {
    "name": "ipython",
    "version": 3
   },
   "file_extension": ".py",
   "mimetype": "text/x-python",
   "name": "python",
   "nbconvert_exporter": "python",
   "pygments_lexer": "ipython3",
   "version": "3.7.4"
  }
 },
 "nbformat": 4,
 "nbformat_minor": 2
}
