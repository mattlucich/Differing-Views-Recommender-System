{
 "cells": [
  {
   "cell_type": "code",
   "execution_count": 1,
   "id": "08edbb1d",
   "metadata": {},
   "outputs": [
    {
     "data": {
      "application/vnd.jupyter.widget-view+json": {
       "model_id": "645f9f26ebb54d19941086246be391ba",
       "version_major": 2,
       "version_minor": 0
      },
      "text/plain": [
       "VBox()"
      ]
     },
     "metadata": {},
     "output_type": "display_data"
    },
    {
     "name": "stdout",
     "output_type": "stream",
     "text": [
      "Starting Spark application\n"
     ]
    },
    {
     "data": {
      "text/html": [
       "<table>\n",
       "<tr><th>ID</th><th>YARN Application ID</th><th>Kind</th><th>State</th><th>Spark UI</th><th>Driver log</th><th>Current session?</th></tr><tr><td>0</td><td>application_1620513438897_0001</td><td>pyspark</td><td>idle</td><td><a target=\"_blank\" href=\"http://ip-172-31-30-215.us-east-2.compute.internal:20888/proxy/application_1620513438897_0001/\">Link</a></td><td><a target=\"_blank\" href=\"http://ip-172-31-30-69.us-east-2.compute.internal:8042/node/containerlogs/container_1620513438897_0001_01_000001/livy\">Link</a></td><td>✔</td></tr></table>"
      ],
      "text/plain": [
       "<IPython.core.display.HTML object>"
      ]
     },
     "metadata": {},
     "output_type": "display_data"
    },
    {
     "data": {
      "application/vnd.jupyter.widget-view+json": {
       "model_id": "",
       "version_major": 2,
       "version_minor": 0
      },
      "text/plain": [
       "FloatProgress(value=0.0, bar_style='info', description='Progress:', layout=Layout(height='25px', width='50%'),…"
      ]
     },
     "metadata": {},
     "output_type": "display_data"
    },
    {
     "name": "stdout",
     "output_type": "stream",
     "text": [
      "SparkSession available as 'spark'.\n"
     ]
    },
    {
     "data": {
      "application/vnd.jupyter.widget-view+json": {
       "model_id": "",
       "version_major": 2,
       "version_minor": 0
      },
      "text/plain": [
       "FloatProgress(value=0.0, bar_style='info', description='Progress:', layout=Layout(height='25px', width='50%'),…"
      ]
     },
     "metadata": {},
     "output_type": "display_data"
    },
    {
     "name": "stderr",
     "output_type": "stream",
     "text": [
      "this version of pandas is incompatible with numpy < 1.15.4\n",
      "your numpy version is 1.14.5.\n",
      "Please upgrade numpy to >= 1.15.4 to use this pandas version\n",
      "Traceback (most recent call last):\n",
      "  File \"/usr/local/lib64/python3.6/site-packages/pandas/__init__.py\", line 22, in <module>\n",
      "    from pandas.compat.numpy import (\n",
      "  File \"/usr/local/lib64/python3.6/site-packages/pandas/compat/numpy/__init__.py\", line 21, in <module>\n",
      "    \"this version of pandas is incompatible with numpy < 1.15.4\\n\"\n",
      "ImportError: this version of pandas is incompatible with numpy < 1.15.4\n",
      "your numpy version is 1.14.5.\n",
      "Please upgrade numpy to >= 1.15.4 to use this pandas version\n",
      "\n"
     ]
    }
   ],
   "source": [
    "from pyspark.sql import SparkSession\n",
    "from pyspark.ml.feature import RegexTokenizer\n",
    "from pyspark.sql import Window\n",
    "from pyspark.sql import Row, functions as F\n",
    "from pyspark.sql.types import IntegerType\n",
    "from pyspark.sql import functions as funcs\n",
    "from pyspark.sql.types import StructType, StructField, StringType\n",
    "from pyspark.sql.types import StringType\n",
    "from pyspark.sql.functions import udf, col\n",
    "\n",
    "import boto3\n",
    "import datetime\n",
    "import re\n",
    "import numpy as np\n",
    "import pandas as pd"
   ]
  },
  {
   "cell_type": "code",
   "execution_count": 2,
   "id": "6d199186",
   "metadata": {},
   "outputs": [
    {
     "data": {
      "application/vnd.jupyter.widget-view+json": {
       "model_id": "c94576b4a88c404a9f8862e2b1540a1c",
       "version_major": 2,
       "version_minor": 0
      },
      "text/plain": [
       "VBox()"
      ]
     },
     "metadata": {},
     "output_type": "display_data"
    },
    {
     "data": {
      "application/vnd.jupyter.widget-view+json": {
       "model_id": "",
       "version_major": 2,
       "version_minor": 0
      },
      "text/plain": [
       "FloatProgress(value=0.0, bar_style='info', description='Progress:', layout=Layout(height='25px', width='50%'),…"
      ]
     },
     "metadata": {},
     "output_type": "display_data"
    },
    {
     "name": "stderr",
     "output_type": "stream",
     "text": [
      "name 'SparkSession' is not defined\n",
      "Traceback (most recent call last):\n",
      "NameError: name 'SparkSession' is not defined\n",
      "\n"
     ]
    }
   ],
   "source": [
    "# create a Spark session\n",
    "spark = SparkSession.builder \\\n",
    "    .master(\"local\") \\\n",
    "    .appName(\"SparkLogs\") \\\n",
    "    .getOrCreate()"
   ]
  },
  {
   "cell_type": "code",
   "execution_count": 3,
   "id": "24575216",
   "metadata": {},
   "outputs": [
    {
     "data": {
      "application/vnd.jupyter.widget-view+json": {
       "model_id": "51acd8479ced40359358676c78ca8fc1",
       "version_major": 2,
       "version_minor": 0
      },
      "text/plain": [
       "VBox()"
      ]
     },
     "metadata": {},
     "output_type": "display_data"
    },
    {
     "data": {
      "application/vnd.jupyter.widget-view+json": {
       "model_id": "",
       "version_major": 2,
       "version_minor": 0
      },
      "text/plain": [
       "FloatProgress(value=0.0, bar_style='info', description='Progress:', layout=Layout(height='25px', width='50%'),…"
      ]
     },
     "metadata": {},
     "output_type": "display_data"
    }
   ],
   "source": [
    "# Load book meta data\n",
    "df_books_raw = spark.read.json(\"s3://book-recommender-goodreads/goodreads_books.json.gz\")"
   ]
  },
  {
   "cell_type": "code",
   "execution_count": 16,
   "id": "2be378d0",
   "metadata": {},
   "outputs": [
    {
     "data": {
      "application/vnd.jupyter.widget-view+json": {
       "model_id": "cf8e4a9085f84995a3f56e56c19f0cfb",
       "version_major": 2,
       "version_minor": 0
      },
      "text/plain": [
       "VBox()"
      ]
     },
     "metadata": {},
     "output_type": "display_data"
    },
    {
     "data": {
      "application/vnd.jupyter.widget-view+json": {
       "model_id": "",
       "version_major": 2,
       "version_minor": 0
      },
      "text/plain": [
       "FloatProgress(value=0.0, bar_style='info', description='Progress:', layout=Layout(height='25px', width='50%'),…"
      ]
     },
     "metadata": {},
     "output_type": "display_data"
    },
    {
     "name": "stdout",
     "output_type": "stream",
     "text": [
      "root\n",
      " |-- asin: string (nullable = true)\n",
      " |-- authors: array (nullable = true)\n",
      " |    |-- element: struct (containsNull = true)\n",
      " |    |    |-- author_id: string (nullable = true)\n",
      " |    |    |-- role: string (nullable = true)\n",
      " |-- average_rating: string (nullable = true)\n",
      " |-- book_id: string (nullable = true)\n",
      " |-- country_code: string (nullable = true)\n",
      " |-- description: string (nullable = true)\n",
      " |-- edition_information: string (nullable = true)\n",
      " |-- format: string (nullable = true)\n",
      " |-- image_url: string (nullable = true)\n",
      " |-- is_ebook: string (nullable = true)\n",
      " |-- isbn: string (nullable = true)\n",
      " |-- isbn13: string (nullable = true)\n",
      " |-- kindle_asin: string (nullable = true)\n",
      " |-- language_code: string (nullable = true)\n",
      " |-- link: string (nullable = true)\n",
      " |-- num_pages: string (nullable = true)\n",
      " |-- popular_shelves: array (nullable = true)\n",
      " |    |-- element: struct (containsNull = true)\n",
      " |    |    |-- count: string (nullable = true)\n",
      " |    |    |-- name: string (nullable = true)\n",
      " |-- publication_day: string (nullable = true)\n",
      " |-- publication_month: string (nullable = true)\n",
      " |-- publication_year: string (nullable = true)\n",
      " |-- publisher: string (nullable = true)\n",
      " |-- ratings_count: string (nullable = true)\n",
      " |-- series: array (nullable = true)\n",
      " |    |-- element: string (containsNull = true)\n",
      " |-- similar_books: array (nullable = true)\n",
      " |    |-- element: string (containsNull = true)\n",
      " |-- text_reviews_count: string (nullable = true)\n",
      " |-- title: string (nullable = true)\n",
      " |-- title_without_series: string (nullable = true)\n",
      " |-- url: string (nullable = true)\n",
      " |-- work_id: string (nullable = true)"
     ]
    }
   ],
   "source": [
    "df_books_raw.printSchema()"
   ]
  },
  {
   "cell_type": "code",
   "execution_count": 4,
   "id": "1a9726ee",
   "metadata": {},
   "outputs": [
    {
     "data": {
      "application/vnd.jupyter.widget-view+json": {
       "model_id": "67f9db61fd5c490fb65a4deba50aa499",
       "version_major": 2,
       "version_minor": 0
      },
      "text/plain": [
       "VBox()"
      ]
     },
     "metadata": {},
     "output_type": "display_data"
    },
    {
     "data": {
      "application/vnd.jupyter.widget-view+json": {
       "model_id": "",
       "version_major": 2,
       "version_minor": 0
      },
      "text/plain": [
       "FloatProgress(value=0.0, bar_style='info', description='Progress:', layout=Layout(height='25px', width='50%'),…"
      ]
     },
     "metadata": {},
     "output_type": "display_data"
    }
   ],
   "source": [
    "# Trim the dataframe to columns of interest\n",
    "df_books_trim = df_books_raw.select(\"title\", \"book_id\", \"publication_year\", \"ratings_count\", \"language_code\", \"average_rating\", \"popular_shelves\")\n"
   ]
  },
  {
   "cell_type": "code",
   "execution_count": 5,
   "id": "4c36cfe0",
   "metadata": {},
   "outputs": [
    {
     "data": {
      "application/vnd.jupyter.widget-view+json": {
       "model_id": "9d5dc8a8c0594311b5956df1a70abc8a",
       "version_major": 2,
       "version_minor": 0
      },
      "text/plain": [
       "VBox()"
      ]
     },
     "metadata": {},
     "output_type": "display_data"
    },
    {
     "data": {
      "application/vnd.jupyter.widget-view+json": {
       "model_id": "",
       "version_major": 2,
       "version_minor": 0
      },
      "text/plain": [
       "FloatProgress(value=0.0, bar_style='info', description='Progress:', layout=Layout(height='25px', width='50%'),…"
      ]
     },
     "metadata": {},
     "output_type": "display_data"
    }
   ],
   "source": [
    "def array_to_string(my_list):\n",
    "    \"\"\"Convert JSON dict to list of strings\"\"\"\n",
    "    return '[' + ','.join([str(elem) for elem in my_list]) + ']'\n",
    "\n",
    "array_to_string_udf = udf(array_to_string, StringType())\n",
    "\n",
    "df_books_trim = df_books_trim.withColumn('popular_shelves', array_to_string_udf(df_books_trim[\"popular_shelves\"]))"
   ]
  },
  {
   "cell_type": "code",
   "execution_count": 6,
   "id": "12a2b09c",
   "metadata": {},
   "outputs": [
    {
     "data": {
      "application/vnd.jupyter.widget-view+json": {
       "model_id": "1b62cf1574d94ac4bd380413d4c99839",
       "version_major": 2,
       "version_minor": 0
      },
      "text/plain": [
       "VBox()"
      ]
     },
     "metadata": {},
     "output_type": "display_data"
    },
    {
     "data": {
      "application/vnd.jupyter.widget-view+json": {
       "model_id": "",
       "version_major": 2,
       "version_minor": 0
      },
      "text/plain": [
       "FloatProgress(value=0.0, bar_style='info', description='Progress:', layout=Layout(height='25px', width='50%'),…"
      ]
     },
     "metadata": {},
     "output_type": "display_data"
    }
   ],
   "source": [
    "# Filter for only specific genres using regex\n",
    "expression = \"economics|politics|sociology|society|political-science|government|history|philosophy|theory\"\n",
    "df_books_genres = df_books_trim.filter(df_books_trim['popular_shelves'].rlike(expression))\n"
   ]
  },
  {
   "cell_type": "code",
   "execution_count": 7,
   "id": "db1685be",
   "metadata": {},
   "outputs": [
    {
     "data": {
      "application/vnd.jupyter.widget-view+json": {
       "model_id": "67bf94f16b454b8f81daff59e4417f99",
       "version_major": 2,
       "version_minor": 0
      },
      "text/plain": [
       "VBox()"
      ]
     },
     "metadata": {},
     "output_type": "display_data"
    },
    {
     "data": {
      "application/vnd.jupyter.widget-view+json": {
       "model_id": "",
       "version_major": 2,
       "version_minor": 0
      },
      "text/plain": [
       "FloatProgress(value=0.0, bar_style='info', description='Progress:', layout=Layout(height='25px', width='50%'),…"
      ]
     },
     "metadata": {},
     "output_type": "display_data"
    }
   ],
   "source": [
    "# Save data to S3 bucket\n",
    "df_books_genres.write.format(\"csv\").option(\"header\",\"true\").mode(\"Overwrite\").save(\"s3a://book-recommender-goodreads/booksdata-genres\")\n"
   ]
  },
  {
   "cell_type": "code",
   "execution_count": 33,
   "id": "cac203cc",
   "metadata": {},
   "outputs": [
    {
     "data": {
      "application/vnd.jupyter.widget-view+json": {
       "model_id": "93174e7921464b13ad400b528d254010",
       "version_major": 2,
       "version_minor": 0
      },
      "text/plain": [
       "VBox()"
      ]
     },
     "metadata": {},
     "output_type": "display_data"
    },
    {
     "data": {
      "application/vnd.jupyter.widget-view+json": {
       "model_id": "",
       "version_major": 2,
       "version_minor": 0
      },
      "text/plain": [
       "FloatProgress(value=0.0, bar_style='info', description='Progress:', layout=Layout(height='25px', width='50%'),…"
      ]
     },
     "metadata": {},
     "output_type": "display_data"
    },
    {
     "name": "stdout",
     "output_type": "stream",
     "text": [
      "111119"
     ]
    }
   ],
   "source": [
    "df_books_genres.count()"
   ]
  },
  {
   "cell_type": "markdown",
   "id": "9a737ab3",
   "metadata": {},
   "source": [
    "## User Interactions"
   ]
  },
  {
   "cell_type": "code",
   "execution_count": 8,
   "id": "d5edb332",
   "metadata": {},
   "outputs": [
    {
     "data": {
      "application/vnd.jupyter.widget-view+json": {
       "model_id": "83f51b33c5e349a79bc1c91367bde04a",
       "version_major": 2,
       "version_minor": 0
      },
      "text/plain": [
       "VBox()"
      ]
     },
     "metadata": {},
     "output_type": "display_data"
    },
    {
     "data": {
      "application/vnd.jupyter.widget-view+json": {
       "model_id": "",
       "version_major": 2,
       "version_minor": 0
      },
      "text/plain": [
       "FloatProgress(value=0.0, bar_style='info', description='Progress:', layout=Layout(height='25px', width='50%'),…"
      ]
     },
     "metadata": {},
     "output_type": "display_data"
    }
   ],
   "source": [
    "# Load user interaction data\n",
    "df_book_inter = spark.read.option(\"header\",True).csv(\"s3://book-recommender-goodreads/goodreads_interactions.csv\")\n"
   ]
  },
  {
   "cell_type": "code",
   "execution_count": 46,
   "id": "374a084a",
   "metadata": {},
   "outputs": [
    {
     "data": {
      "application/vnd.jupyter.widget-view+json": {
       "model_id": "d0e7a95ad3e749b8889e2f855d3c22ae",
       "version_major": 2,
       "version_minor": 0
      },
      "text/plain": [
       "VBox()"
      ]
     },
     "metadata": {},
     "output_type": "display_data"
    },
    {
     "data": {
      "application/vnd.jupyter.widget-view+json": {
       "model_id": "",
       "version_major": 2,
       "version_minor": 0
      },
      "text/plain": [
       "FloatProgress(value=0.0, bar_style='info', description='Progress:', layout=Layout(height='25px', width='50%'),…"
      ]
     },
     "metadata": {},
     "output_type": "display_data"
    },
    {
     "name": "stdout",
     "output_type": "stream",
     "text": [
      "root\n",
      " |-- user_id: string (nullable = true)\n",
      " |-- book_id: string (nullable = true)\n",
      " |-- is_read: string (nullable = true)\n",
      " |-- rating: string (nullable = true)\n",
      " |-- is_reviewed: string (nullable = true)"
     ]
    }
   ],
   "source": [
    "df_book_inter.printSchema()"
   ]
  },
  {
   "cell_type": "code",
   "execution_count": 47,
   "id": "615812c7",
   "metadata": {},
   "outputs": [
    {
     "data": {
      "application/vnd.jupyter.widget-view+json": {
       "model_id": "cce8cc249c6c45319126b0e39210eec7",
       "version_major": 2,
       "version_minor": 0
      },
      "text/plain": [
       "VBox()"
      ]
     },
     "metadata": {},
     "output_type": "display_data"
    },
    {
     "data": {
      "application/vnd.jupyter.widget-view+json": {
       "model_id": "",
       "version_major": 2,
       "version_minor": 0
      },
      "text/plain": [
       "FloatProgress(value=0.0, bar_style='info', description='Progress:', layout=Layout(height='25px', width='50%'),…"
      ]
     },
     "metadata": {},
     "output_type": "display_data"
    },
    {
     "name": "stdout",
     "output_type": "stream",
     "text": [
      "+-------+-------+-------+------+-----------+\n",
      "|user_id|book_id|is_read|rating|is_reviewed|\n",
      "+-------+-------+-------+------+-----------+\n",
      "|      0|    948|      1|     5|          0|\n",
      "|      0|    947|      1|     5|          1|\n",
      "|      0|    946|      1|     5|          0|\n",
      "+-------+-------+-------+------+-----------+\n",
      "only showing top 3 rows"
     ]
    }
   ],
   "source": [
    "df_book_inter.show(3)"
   ]
  },
  {
   "cell_type": "code",
   "execution_count": 9,
   "id": "6874d19b",
   "metadata": {},
   "outputs": [
    {
     "data": {
      "application/vnd.jupyter.widget-view+json": {
       "model_id": "74d8e61e6d8f4e619ae342c2258b1de9",
       "version_major": 2,
       "version_minor": 0
      },
      "text/plain": [
       "VBox()"
      ]
     },
     "metadata": {},
     "output_type": "display_data"
    },
    {
     "data": {
      "application/vnd.jupyter.widget-view+json": {
       "model_id": "",
       "version_major": 2,
       "version_minor": 0
      },
      "text/plain": [
       "FloatProgress(value=0.0, bar_style='info', description='Progress:', layout=Layout(height='25px', width='50%'),…"
      ]
     },
     "metadata": {},
     "output_type": "display_data"
    }
   ],
   "source": [
    "book_id_list = df_books_genres.select('book_id').collect()\n"
   ]
  },
  {
   "cell_type": "code",
   "execution_count": 10,
   "id": "54e329b9",
   "metadata": {},
   "outputs": [
    {
     "data": {
      "application/vnd.jupyter.widget-view+json": {
       "model_id": "23aadc71776a455087771ff8578dace4",
       "version_major": 2,
       "version_minor": 0
      },
      "text/plain": [
       "VBox()"
      ]
     },
     "metadata": {},
     "output_type": "display_data"
    },
    {
     "data": {
      "application/vnd.jupyter.widget-view+json": {
       "model_id": "",
       "version_major": 2,
       "version_minor": 0
      },
      "text/plain": [
       "FloatProgress(value=0.0, bar_style='info', description='Progress:', layout=Layout(height='25px', width='50%'),…"
      ]
     },
     "metadata": {},
     "output_type": "display_data"
    }
   ],
   "source": [
    "book_id_array = [str(row.book_id) for row in book_id_list]"
   ]
  },
  {
   "cell_type": "code",
   "execution_count": 11,
   "id": "92d28da8",
   "metadata": {},
   "outputs": [
    {
     "data": {
      "application/vnd.jupyter.widget-view+json": {
       "model_id": "69990ba2400d4a0590423a41af4f706e",
       "version_major": 2,
       "version_minor": 0
      },
      "text/plain": [
       "VBox()"
      ]
     },
     "metadata": {},
     "output_type": "display_data"
    },
    {
     "data": {
      "application/vnd.jupyter.widget-view+json": {
       "model_id": "",
       "version_major": 2,
       "version_minor": 0
      },
      "text/plain": [
       "FloatProgress(value=0.0, bar_style='info', description='Progress:', layout=Layout(height='25px', width='50%'),…"
      ]
     },
     "metadata": {},
     "output_type": "display_data"
    }
   ],
   "source": [
    "df_select_book_inter = df_book_inter.filter(df_book_inter.book_id.isin(book_id_array))"
   ]
  },
  {
   "cell_type": "code",
   "execution_count": 12,
   "id": "a7299f1c",
   "metadata": {},
   "outputs": [
    {
     "data": {
      "application/vnd.jupyter.widget-view+json": {
       "model_id": "058270546ab640d7918b2b7943dfe639",
       "version_major": 2,
       "version_minor": 0
      },
      "text/plain": [
       "VBox()"
      ]
     },
     "metadata": {},
     "output_type": "display_data"
    },
    {
     "data": {
      "application/vnd.jupyter.widget-view+json": {
       "model_id": "",
       "version_major": 2,
       "version_minor": 0
      },
      "text/plain": [
       "FloatProgress(value=0.0, bar_style='info', description='Progress:', layout=Layout(height='25px', width='50%'),…"
      ]
     },
     "metadata": {},
     "output_type": "display_data"
    }
   ],
   "source": [
    "df_select_book_inter = df_select_book_inter.filter(df_book_inter.is_read == 1)"
   ]
  },
  {
   "cell_type": "code",
   "execution_count": 64,
   "id": "96feaa7b",
   "metadata": {},
   "outputs": [
    {
     "data": {
      "application/vnd.jupyter.widget-view+json": {
       "model_id": "4208ab7424ca4270acf780ad36e6472a",
       "version_major": 2,
       "version_minor": 0
      },
      "text/plain": [
       "VBox()"
      ]
     },
     "metadata": {},
     "output_type": "display_data"
    },
    {
     "data": {
      "application/vnd.jupyter.widget-view+json": {
       "model_id": "",
       "version_major": 2,
       "version_minor": 0
      },
      "text/plain": [
       "FloatProgress(value=0.0, bar_style='info', description='Progress:', layout=Layout(height='25px', width='50%'),…"
      ]
     },
     "metadata": {},
     "output_type": "display_data"
    },
    {
     "name": "stdout",
     "output_type": "stream",
     "text": [
      "20576730"
     ]
    }
   ],
   "source": [
    "df_select_book_inter.count()"
   ]
  },
  {
   "cell_type": "code",
   "execution_count": 69,
   "id": "c95a9225",
   "metadata": {},
   "outputs": [
    {
     "data": {
      "application/vnd.jupyter.widget-view+json": {
       "model_id": "93de2263cf4b45728f47af866ae9742f",
       "version_major": 2,
       "version_minor": 0
      },
      "text/plain": [
       "VBox()"
      ]
     },
     "metadata": {},
     "output_type": "display_data"
    },
    {
     "data": {
      "application/vnd.jupyter.widget-view+json": {
       "model_id": "",
       "version_major": 2,
       "version_minor": 0
      },
      "text/plain": [
       "FloatProgress(value=0.0, bar_style='info', description='Progress:', layout=Layout(height='25px', width='50%'),…"
      ]
     },
     "metadata": {},
     "output_type": "display_data"
    }
   ],
   "source": [
    "df_select_book_inter_10m = df_select_book_inter.limit(10000000)"
   ]
  },
  {
   "cell_type": "code",
   "execution_count": 70,
   "id": "2cc081b4",
   "metadata": {},
   "outputs": [
    {
     "data": {
      "application/vnd.jupyter.widget-view+json": {
       "model_id": "3a35ec348ffe40a68d600d5ee2ebce2a",
       "version_major": 2,
       "version_minor": 0
      },
      "text/plain": [
       "VBox()"
      ]
     },
     "metadata": {},
     "output_type": "display_data"
    },
    {
     "data": {
      "application/vnd.jupyter.widget-view+json": {
       "model_id": "",
       "version_major": 2,
       "version_minor": 0
      },
      "text/plain": [
       "FloatProgress(value=0.0, bar_style='info', description='Progress:', layout=Layout(height='25px', width='50%'),…"
      ]
     },
     "metadata": {},
     "output_type": "display_data"
    }
   ],
   "source": [
    "# Save data to S3 bucket\n",
    "df_select_book_inter_10m.write.format(\"csv\").option(\"header\",\"true\").mode(\"Overwrite\") \\\n",
    "                              .save(\"s3a://book-recommender-goodreads/book-inter-10m\")\n"
   ]
  }
 ],
 "metadata": {
  "kernelspec": {
   "display_name": "PySpark",
   "language": "",
   "name": "pysparkkernel"
  },
  "language_info": {
   "codemirror_mode": {
    "name": "python",
    "version": 2
   },
   "mimetype": "text/x-python",
   "name": "pyspark",
   "pygments_lexer": "python2"
  }
 },
 "nbformat": 4,
 "nbformat_minor": 5
}
